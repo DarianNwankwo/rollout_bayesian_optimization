{
 "cells": [
  {
   "cell_type": "code",
   "execution_count": null,
   "id": "ac4d2db9-13af-48b7-80a9-71f21a6cbcc2",
   "metadata": {},
   "outputs": [],
   "source": [
    "using Distributions\n",
    "using LinearAlgebra\n",
    "using Plots\n",
    "using Test\n",
    "using Sobol\n",
    "using Optim\n",
    "using Profile\n",
    "using PProf\n",
    "using Random"
   ]
  },
  {
   "cell_type": "code",
   "execution_count": null,
   "id": "ecfd792f-ebe1-414a-9ad3-7c690ed20ff4",
   "metadata": {},
   "outputs": [],
   "source": [
    "include(\"../rollout.jl\")\n",
    "include(\"../testfns.jl\")"
   ]
  },
  {
   "cell_type": "markdown",
   "id": "30efe8e4-065c-4f59-93a1-d9830d867fb5",
   "metadata": {},
   "source": [
    "### Psuedo-code for Rollout Bayesian Optimization\n",
    "1. Generate low-discrepancy sequence for Quasi-Monte Carlo\n",
    "2. Gather initial samples/experimental data\n",
    "3. Construct the ground truth surrogate model\n",
    "4. Setup hyperparameters for stochastic gradient descent\n",
    "5. While budget has not been exhausted\n",
    "<ol>\n",
    "    <li>\n",
    "        Construct a batch of samples for stochastic gradient descent. For each sample\n",
    "        <ol>\n",
    "            <li>Create a copy of the ground truth surrogate at the sample location and the pairwise perturbed surrogate.</li>\n",
    "            <li style=\"color: #f66\">Initialize our trajectory struct with the fantasized surrogate and fantisized perturbed surrogate and fantasy start location.</li>\n",
    "            <li>Perform rollout on the trajectory for $r$ steps $M_0$ times for Quasi-Monte Carlo integration.</li>\n",
    "            <li>Update values for $\\alpha$ and $\\nabla\\alpha$</li>\n",
    "        </ol>\n",
    "    </li>\n",
    "    <li>Once SGD has converged, update sample location using update rule</li>\n",
    "    <li>Save location and value at location for each sample in batch.</li>\n",
    "    <li>Select the best sample from the batch and sample original process at new sample location.</li>\n",
    "    <li>Update surrogate model with value found at new sample location.</li>\n",
    "    <li>Repeat until budget is exhausted.</li>\n",
    "</ol>\n",
    "\n",
    "### Issues\n",
    "- Use control variates to see how they affect the rollout acquisition functions"
   ]
  },
  {
   "cell_type": "markdown",
   "id": "740e67f2-8b9f-4579-bb03-a72305371f58",
   "metadata": {
    "tags": []
   },
   "source": [
    "#### Probability of Improvement\n",
    "The probability of improvement (POI) is defined as follows:\n",
    "\n",
    "$$\n",
    "POI(x) = \\Phi\\left( \\frac{\\mu(x) - f^+ - \\xi}{\\sigma(x)} \\right)\n",
    "$$\n",
    "\n",
    "where $f^+$ denotes the best value (maximum) known, $\\mu(x)$ is the predictive mean at x, $\\sigma(x)$ is the predictive variance, $\\xi$ is our exploration parameter, and $\\Phi$ is the standard normal cumulative distribution function.\n",
    "<hr>\n",
    "\n",
    "#### Expected Improvement\n",
    "The expected improvement (EI) is defined as follows:\n",
    "\n",
    "$$\n",
    "EI(x) = (\\mu(x) - f^+ - \\xi)\\Phi\\left( \\frac{\\mu(x) - f^+ - \\xi}{\\sigma(x)} \\right) +\n",
    "        \\sigma(x)\\phi\\left(\\frac{\\mu(x) - f^+ - \\xi}{\\sigma(x)}\\right)\n",
    "$$\n",
    "\n",
    "where $\\phi$ is the standard normal probability density function.\n",
    "<hr>"
   ]
  },
  {
   "cell_type": "code",
   "execution_count": null,
   "id": "fb46be93-ff4d-430e-8235-6379a15d7a8f",
   "metadata": {},
   "outputs": [],
   "source": [
    "function ei(μ, σ, fbest)\n",
    "    z = (fbest - μ) / σ\n",
    "    Φz = Distributions.normcdf(z)\n",
    "    ϕz = Distributions.normpdf(z)\n",
    "    return σ*(z*Φz + ϕz)\n",
    "end\n",
    "\n",
    "function poi(μ, σ, fbest)\n",
    "    z = (fbest - μ) / σ\n",
    "    Φz = Distributions.normcdf(z)\n",
    "    return Φz\n",
    "end"
   ]
  },
  {
   "cell_type": "code",
   "execution_count": null,
   "id": "9326ad1f-b1a8-41d6-98d4-f81de8dad559",
   "metadata": {},
   "outputs": [],
   "source": [
    "# Global parameters\n",
    "MAX_SGD_ITERS = 100\n",
    "BATCH_SIZE = 5\n",
    "HORIZON = 4\n",
    "MC_SAMPLES = 2\n",
    "BUDGET = 1;"
   ]
  },
  {
   "cell_type": "markdown",
   "id": "e970b06e-5a3a-4fae-a41a-48bddde43d8e",
   "metadata": {},
   "source": [
    "### 1. Generate low-discrepancy sequence for Quasi-Monte Carlo"
   ]
  },
  {
   "cell_type": "code",
   "execution_count": null,
   "id": "e69b38c0-0e1e-4454-9dc4-364a4ccf4639",
   "metadata": {},
   "outputs": [],
   "source": [
    "# Setup toy problem\n",
    "testfn = TestFunction(\n",
    "    1, [0. 1.], [.5],\n",
    "    x -> 0. + 1e-6*randn(),\n",
    "    ∇x -> [0. + 1e-6*randn()]\n",
    ")\n",
    "lbs, ubs = testfn.bounds[:,1], testfn.bounds[:,2]\n",
    "\n",
    "# Setup low discrepancy random number stream\n",
    "lds_rns = gen_low_discrepancy_sequence(MC_SAMPLES, testfn.dim, HORIZON+1);\n",
    "rns = randn(MC_SAMPLES, testfn.dim+1, HORIZON+1);"
   ]
  },
  {
   "cell_type": "code",
   "execution_count": null,
   "id": "45eca1bf-7282-46b3-ba31-da6bb3a39db8",
   "metadata": {},
   "outputs": [],
   "source": [
    "tplot(testfn)"
   ]
  },
  {
   "cell_type": "markdown",
   "id": "4678e423-32e5-4b01-aae5-03d1aef751fc",
   "metadata": {},
   "source": [
    "### 2. Gather initial samples/experimental data"
   ]
  },
  {
   "cell_type": "code",
   "execution_count": null,
   "id": "1fb679e5-f73a-43f6-9f41-21acd5a0294a",
   "metadata": {},
   "outputs": [],
   "source": [
    "# Gather initial samples/experimental data\n",
    "N, θ = 1, [.25]\n",
    "X = [.15, .85]\n",
    "X = reshape(X, 1, length(X))\n",
    "# ψ = kernel_matern52(θ);\n",
    "ψ = kernel_scale(kernel_matern52, [1., θ...]);"
   ]
  },
  {
   "cell_type": "markdown",
   "id": "755d46cc-e399-408e-9ab4-ebde68ab9343",
   "metadata": {},
   "source": [
    "### 3. Construct the ground truth surrogate model"
   ]
  },
  {
   "cell_type": "code",
   "execution_count": null,
   "id": "832624d6-1420-4c41-9b08-3603cca5311a",
   "metadata": {},
   "outputs": [],
   "source": [
    "sur = fit_surrogate(ψ, X, testfn.f);\n",
    "# θ, sur = optimize_hypers(ψ.θ, kernel_matern52, sur.X, testfn.f);"
   ]
  },
  {
   "cell_type": "code",
   "execution_count": null,
   "id": "423926a8-dea6-48d0-a474-142f763c74b8",
   "metadata": {},
   "outputs": [],
   "source": [
    "domain = filter(x -> !(x in X), lbs[1]:.01:ubs[1])\n",
    "scatter(sur.X', sur.y)\n",
    "plot!(domain, [sur([x]).μ for x in domain],\n",
    "    ribbons=2*[sur([x]).σ for x in domain], label=\"μ ± 2σ\")\n",
    "plot!(domain, [sur([x]).EI for x in domain], label=\"EI\")"
   ]
  },
  {
   "cell_type": "markdown",
   "id": "8594aabc-2663-452a-a3bc-535a26bd3b4f",
   "metadata": {},
   "source": [
    "### 4. Setup hyperparameters for stochastic gradient descent"
   ]
  },
  {
   "cell_type": "code",
   "execution_count": null,
   "id": "d6cd22fd-2eac-4027-a0f9-b2f911161db3",
   "metadata": {},
   "outputs": [],
   "source": [
    "λ = 1e-1; # Vanilla stochastic gradient descent"
   ]
  },
  {
   "cell_type": "markdown",
   "id": "a1bb163c-c548-4c52-8e17-40baae9027e4",
   "metadata": {},
   "source": [
    "### 5. While budget has not been exhausted\n",
    "Each location in our minibatch is going to be our $x^0$ that serves as our deterministic start location. Then, we perform rollout from that point forward, computing several sample trajectories to then be averaged."
   ]
  },
  {
   "cell_type": "code",
   "execution_count": null,
   "id": "e2b699bf-d6ff-4d01-a07f-c7378490fcbf",
   "metadata": {
    "tags": []
   },
   "outputs": [],
   "source": [
    "eis, ∇eis = [], []\n",
    "T = nothing\n",
    "for random_number_stream in [lds_rns, rns]\n",
    "    rollout_ei = [0 0] # Sample mean and variance tuples\n",
    "    ∇rollout_ei = [0 0] # Sample mean and variance tuples\n",
    "    \n",
    "    println(\"Total '|'s => $(length(domain))\")\n",
    "    for x0 in domain\n",
    "        print(\"|$x0\")\n",
    "        # Grab each input location and convert to a column vector\n",
    "        x0 = [x0]\n",
    "\n",
    "        αxs, ∇αxs = [], []\n",
    "        # Monte-carlo integrate trajectory for x0\n",
    "        for sample in 1:MC_SAMPLES\n",
    "            # Make a copy of our surrogate to pass to the trajectory struct\n",
    "            # for fantasized computations\n",
    "            fsur = Base.deepcopy(sur)\n",
    "            fantasy_ndx = size(fsur.X, 2) + 1\n",
    "\n",
    "            # Rollout trajectory\n",
    "            T = Trajectory(fsur, x0, fantasy_ndx; h=HORIZON)\n",
    "            rollout!(T, lbs, ubs; rnstream=random_number_stream[sample,:,:])\n",
    "\n",
    "            # Evaluate rolled out trajectory\n",
    "            push!(αxs, α(T))\n",
    "            push!(∇αxs, first(∇α(T)))\n",
    "        end # endfor sample\n",
    "\n",
    "        # Average trajectories\n",
    "        μx = sum(αxs) / length(αxs)\n",
    "        ∇μx = sum(∇αxs) / length(αxs)\n",
    "        σx = sum((αxs .- μx) .^ 2) / (MC_SAMPLES-1)\n",
    "        ∇σx = sum((∇αxs .- ∇μx) .^ 2) / (MC_SAMPLES-1)\n",
    "\n",
    "        # Update history\n",
    "        sx = sur(x0)\n",
    "        μx += ei(sx.μ, sx.σ, minimum(sur.y)) + poi(sx.μ, sx.σ, minimum(sur.y))\n",
    "        rollout_ei = vcat(rollout_ei, [μx σx])\n",
    "        ∇rollout_ei = vcat(∇rollout_ei, [∇μx ∇σx])\n",
    "    end # endfor x0\n",
    "    rollout_ei = rollout_ei[2:end, :]\n",
    "    ∇rollout_ei = ∇rollout_ei[2:end, :];\n",
    "    \n",
    "    push!(eis, rollout_ei)\n",
    "    push!(∇eis, ∇rollout_ei)\n",
    "end"
   ]
  },
  {
   "cell_type": "code",
   "execution_count": null,
   "id": "eafc2231-0508-4054-9b40-221215d04596",
   "metadata": {},
   "outputs": [],
   "source": [
    "# xnext = [0.5]\n",
    "# sxnext = T.s(xnext)\n",
    "# -sxnext.HEI \\ T.δs(sxnext).∇EI\n",
    "T.s.K"
   ]
  },
  {
   "cell_type": "code",
   "execution_count": null,
   "id": "3c0d5d55-d667-4739-bc66-de352ea21f99",
   "metadata": {},
   "outputs": [],
   "source": [
    "function signchange_indices(v::Vector)\n",
    "    indices = [1]\n",
    "    for i = 2:length(v)\n",
    "        if sign(v[i]) != sign(v[i-1])\n",
    "            push!(indices, i)\n",
    "        end\n",
    "    end\n",
    "    return indices\n",
    "end"
   ]
  },
  {
   "cell_type": "code",
   "execution_count": null,
   "id": "f22ccba5-5be8-4e7b-af7b-80ebc4453be9",
   "metadata": {},
   "outputs": [],
   "source": [
    "plot_domain = range(lbs[1], ubs[1], length=length(eis[2][:, 2]))\n",
    "signchange_mc = signchange_indices(∇eis[2][:, 1])\n",
    "plot(\n",
    "    plot_domain,\n",
    "    eis[2][:, 1],\n",
    "    # ribbons=sqrt.(eis[2][:, 2]),\n",
    "    label=\"EI(h=$HORIZON)\",\n",
    "    linestyle=:dash,\n",
    ")\n",
    "vline!([plot_domain[loc] for loc in signchange_mc], label=\"Sign Change\")"
   ]
  },
  {
   "cell_type": "code",
   "execution_count": null,
   "id": "163797de-242c-438f-acd8-2cc779f83571",
   "metadata": {},
   "outputs": [],
   "source": [
    "signchange_lds = signchange_indices(∇eis[1][:, 1])\n",
    "plot(\n",
    "    plot_domain,\n",
    "    eis[1][:, 1],\n",
    "    # ribbons=sqrt.(eis[1][:, 2]),\n",
    "    label=\"LDS EI(h=$HORIZON)\",\n",
    "    linestyle=:dash,\n",
    ")\n",
    "vline!([plot_domain[loc] for loc in signchange_lds], label=\"Sign Change\")"
   ]
  },
  {
   "cell_type": "code",
   "execution_count": null,
   "id": "935e4f33-73e7-43c6-ac44-ff8d0aa786b8",
   "metadata": {},
   "outputs": [],
   "source": [
    "∇ylims = (minimum(∇eis[2][:, 1]) - 2*maximum(∇eis[2][:, 1]),\n",
    "    maximum(∇eis[2][:, 1]) + 2*maximum(∇eis[2][:, 1]))\n",
    "∇ylims_lds = (minimum(∇eis[1][:, 1]) - 2*maximum(∇eis[1][:, 1]),\n",
    "    maximum(∇eis[1][:, 1]) + 2*maximum(∇eis[1][:, 1]))\n",
    "∇ylims"
   ]
  },
  {
   "cell_type": "code",
   "execution_count": null,
   "id": "ab0904b2-0b06-460b-894d-c6218856c3df",
   "metadata": {},
   "outputs": [],
   "source": [
    "plot(\n",
    "    plot_domain,\n",
    "    ∇eis[2][:, 1],\n",
    "    # ribbons=sqrt.(∇eis[2][:, 2]),\n",
    "    label=\"EI(h=$HORIZON)\",\n",
    "    linestyle=:dash,\n",
    "    ylims=∇ylims\n",
    ")\n",
    "vline!([plot_domain[loc] for loc in signchange_mc], label=\"Sign Change\")"
   ]
  },
  {
   "cell_type": "code",
   "execution_count": null,
   "id": "4844d915-7991-42f7-a2d1-619066059e0e",
   "metadata": {},
   "outputs": [],
   "source": [
    "plot(\n",
    "    plot_domain,\n",
    "    ∇eis[1][:, 1],\n",
    "    # ribbons=sqrt.(∇eis[1][:, 2]),\n",
    "    label=\"LDS EI(h=$HORIZON)\",\n",
    "    linestyle=:dash,\n",
    "    ylims=∇ylims\n",
    ")\n",
    "vline!([plot_domain[loc] for loc in signchange_lds], label=\"Sign Change\")"
   ]
  },
  {
   "cell_type": "code",
   "execution_count": null,
   "id": "8bfea303-c85d-49f5-8962-0d7bf899eef3",
   "metadata": {},
   "outputs": [],
   "source": []
  },
  {
   "cell_type": "code",
   "execution_count": null,
   "id": "43da089b-a534-48c5-aaaa-79867a9800e7",
   "metadata": {},
   "outputs": [],
   "source": []
  }
 ],
 "metadata": {
  "kernelspec": {
   "display_name": "Julia 1.8.5",
   "language": "julia",
   "name": "julia-1.8"
  },
  "language_info": {
   "file_extension": ".jl",
   "mimetype": "application/julia",
   "name": "julia",
   "version": "1.8.5"
  }
 },
 "nbformat": 4,
 "nbformat_minor": 5
}
