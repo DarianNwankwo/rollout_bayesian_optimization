{
 "cells": [
  {
   "cell_type": "code",
   "execution_count": 9,
   "id": "7a605733-b0ce-45dc-8e37-ce0bd203d926",
   "metadata": {},
   "outputs": [],
   "source": [
    "using Distributed\n",
    "using SharedArrays"
   ]
  },
  {
   "cell_type": "code",
   "execution_count": 22,
   "id": "fcf269b3-f9ff-4cb9-96b6-3bcefaae6dd8",
   "metadata": {},
   "outputs": [
    {
     "data": {
      "text/plain": [
       "2×5 SharedMatrix{Float64}:\n",
       " 0.0  0.0  0.0  0.0  0.0\n",
       " 0.0  0.0  0.0  0.0  0.0"
      ]
     },
     "execution_count": 22,
     "metadata": {},
     "output_type": "execute_result"
    }
   ],
   "source": [
    "# a = SharedArray{Vector{Float64}}(3)\n",
    "a = SharedMatrix{Float64}(2, 5)"
   ]
  },
  {
   "cell_type": "code",
   "execution_count": 29,
   "id": "b0d1ba56-8bc6-4695-9f33-ef6f4b4fb848",
   "metadata": {},
   "outputs": [
    {
     "data": {
      "text/plain": [
       "Task (done) @0x00007ff11088db60"
      ]
     },
     "execution_count": 29,
     "metadata": {},
     "output_type": "execute_result"
    }
   ],
   "source": [
    "@distributed for i = 1:5\n",
    "    a[:, i] = ones(2) * i^2\n",
    "end"
   ]
  },
  {
   "cell_type": "code",
   "execution_count": 30,
   "id": "c0f96bf5-5677-427c-8059-e405b98b9130",
   "metadata": {},
   "outputs": [
    {
     "data": {
      "text/plain": [
       "2×5 SharedMatrix{Float64}:\n",
       " 1.0  4.0  9.0  16.0  25.0\n",
       " 1.0  4.0  9.0  16.0  25.0"
      ]
     },
     "execution_count": 30,
     "metadata": {},
     "output_type": "execute_result"
    }
   ],
   "source": [
    "a"
   ]
  },
  {
   "cell_type": "code",
   "execution_count": null,
   "id": "60cc133a-bfba-4c91-a3b9-567dcc92e075",
   "metadata": {},
   "outputs": [],
   "source": []
  }
 ],
 "metadata": {
  "kernelspec": {
   "display_name": "Julia 1.8.5",
   "language": "julia",
   "name": "julia-1.8"
  },
  "language_info": {
   "file_extension": ".jl",
   "mimetype": "application/julia",
   "name": "julia",
   "version": "1.8.5"
  }
 },
 "nbformat": 4,
 "nbformat_minor": 5
}
