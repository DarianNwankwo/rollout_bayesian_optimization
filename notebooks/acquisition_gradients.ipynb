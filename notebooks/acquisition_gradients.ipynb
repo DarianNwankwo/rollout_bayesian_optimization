{
 "cells": [
  {
   "cell_type": "code",
   "execution_count": 2,
   "id": "b73789f6-dacc-4655-be95-65bdea643945",
   "metadata": {},
   "outputs": [
    {
     "data": {
      "text/plain": [
       "simulate_trajectory (generic function with 1 method)"
      ]
     },
     "execution_count": 2,
     "metadata": {},
     "output_type": "execute_result"
    }
   ],
   "source": [
    "using Distributions\n",
    "using LinearAlgebra\n",
    "using Plots\n",
    "using Sobol\n",
    "using Random\n",
    "using ForwardDiff\n",
    "\n",
    "include(\"../testfns.jl\")\n",
    "include(\"../utils.jl\")\n",
    "include(\"../rollout.jl\")"
   ]
  },
  {
   "cell_type": "markdown",
   "id": "e7102471-4a3a-4dd9-9d98-002ce25d00d4",
   "metadata": {},
   "source": [
    "## Construct the acquisition function\n",
    "Our acquisition functions directly influence our choice of sample location. They can be thought of as query strategies. The most common acquisition functions in the vanilla Bayesian optimization literature are *Probability of Improvement, Expected Improvement, and Upper Confidence Bound*. The derivation of the acquisition functions under the Gaussian process posterior in 1D is analytic and given as follows.\n",
    "<hr>\n",
    "\n",
    "#### Probability of Improvement\n",
    "The probability of improvement (POI) is defined as follows:\n",
    "\n",
    "$$\n",
    "POI(x) = \\Phi\\left( \\frac{f^+ - \\mu(x)}{\\sigma(x)} \\right)\n",
    "$$\n",
    "\n",
    "where $f^+$ denotes the best value (maximum) known, $\\mu(x)$ is the predictive mean at x, $\\sigma(x)$ is the predictive variance, $\\xi$ is our exploration parameter, and $\\Phi$ is the standard normal cumulative distribution function.\n",
    "<hr>\n",
    "\n",
    "#### Expected Improvement\n",
    "The expected improvement (EI) is defined as follows:\n",
    "\n",
    "$$\n",
    "EI(x) = (f^+ - \\mu(x))\\Phi\\left( \\frac{f^+ - \\mu(x)}{\\sigma(x)} \\right) +\n",
    "        \\sigma(x)\\phi\\left(\\frac{f^+ - \\mu(x)}{\\sigma(x)}\\right)\n",
    "$$\n",
    "\n",
    "where $\\phi$ is the standard normal probability density function.\n",
    "<hr>\n",
    "\n",
    "#### Upper Confidence Bound\n",
    "The upper confidence bound (UCB) is defined as follows:\n",
    "\n",
    "$$\n",
    "UCB(x) = \\mu(x) + \\beta\\sigma(x)\n",
    "$$\n",
    "\n",
    "where $\\beta$ is our exploration parameter.\n",
    "<hr>"
   ]
  },
  {
   "cell_type": "code",
   "execution_count": null,
   "id": "bd878c21-8b1e-479d-bf99-03ae4fa928ba",
   "metadata": {},
   "outputs": [],
   "source": [
    "# z(μ, σ, f⁺; ξ) = (μ-f⁺-ξ)/σ\n",
    "z(μ, σ, f⁺; ξ) = (f⁺-μ-ξ)/σ # we're minimizing objectives here\n",
    "\n",
    "function POI(s::RBFsurrogate; ξ=1., tol=1e-6)\n",
    "    f⁺ = minimum(s.y)\n",
    "    return function POIx(x::Float64)\n",
    "        sx = s([x])\n",
    "        if sx.σ <= tol return 0 end\n",
    "        \n",
    "        Φx = cdf(Normal(), z(sx.μ, sx.σ, f⁺; ξ=ξ))\n",
    "        \n",
    "        return Φx\n",
    "    end\n",
    "end\n",
    "\n",
    "function EI(s::RBFsurrogate; ξ=1., tol=1e-6)\n",
    "    f⁺ = minimum(s.y)\n",
    "    return function EIx(x::Float64)\n",
    "        sx = s([x])\n",
    "        if sx.σ <= tol return 0 end\n",
    "\n",
    "        zx = z(sx.μ, sx.σ, f⁺; ξ=ξ)\n",
    "        Φx = cdf(Normal(), zx)\n",
    "        ϕx = pdf(Normal(), zx)\n",
    "        \n",
    "        return (zx*sx.σ)*Φx + sx.σ*ϕx\n",
    "    end\n",
    "end\n",
    "\n",
    "function UCB(s::RBFsurrogate; β=1., tol=1e-6)\n",
    "    return function UCBx(x::Float64)\n",
    "        sx = s([x])\n",
    "        if sx.σ <= tol return end\n",
    "        \n",
    "        return sx.μ + β*sx.σ\n",
    "    end\n",
    "end\n",
    "\n",
    "function stdize(series)\n",
    "    smax, smin = maximum(series), minimum(series)\n",
    "    return [(s-smin)/(smax-smin) for s in series]\n",
    "end"
   ]
  },
  {
   "cell_type": "code",
   "execution_count": null,
   "id": "dda5885f-ca00-4747-a74d-3b2422686464",
   "metadata": {},
   "outputs": [],
   "source": []
  }
 ],
 "metadata": {
  "kernelspec": {
   "display_name": "Julia 1.9.2",
   "language": "julia",
   "name": "julia-1.9"
  },
  "language_info": {
   "file_extension": ".jl",
   "mimetype": "application/julia",
   "name": "julia",
   "version": "1.9.2"
  }
 },
 "nbformat": 4,
 "nbformat_minor": 5
}
