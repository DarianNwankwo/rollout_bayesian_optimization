{
 "cells": [
  {
   "cell_type": "markdown",
   "id": "9fb6592a-2112-4447-8815-2086718fef93",
   "metadata": {},
   "source": [
    "## Computing Square Roots of Matrices\n",
    "\n",
    "### Investigation\n",
    "We're interested in computing the following quantity:\n",
    "\n",
    "1. $L_0L_0 = A_0$\n",
    "2. $L_0G = B^T$\n",
    "3. $GL_0 = B$\n",
    "4. $HH = C - (BL_0^{-1}BL_0^{-1})$\n",
    "\n",
    "\n",
    "where we'd like to get a handle on $H$. Reasoning algebraically, $HH$ seems like a quadratic matrix, i.e. $H^2$. Thus, I am interested in computing the square-root of said matrix.\n"
   ]
  },
  {
   "cell_type": "code",
   "execution_count": 2,
   "id": "56633717-1742-4f6e-9ef4-fe8eefe63c8a",
   "metadata": {},
   "outputs": [],
   "source": [
    "using DataFrames\n",
    "using LinearAlgebra\n",
    "using Plots"
   ]
  },
  {
   "cell_type": "code",
   "execution_count": 3,
   "id": "a9cf3ebe-50c2-48da-b184-34e3bac7b7a8",
   "metadata": {},
   "outputs": [
    {
     "data": {
      "text/plain": [
       "simulate_trajectory (generic function with 1 method)"
      ]
     },
     "execution_count": 3,
     "metadata": {},
     "output_type": "execute_result"
    }
   ],
   "source": [
    "include(\"../rollout.jl\")"
   ]
  },
  {
   "cell_type": "code",
   "execution_count": 4,
   "id": "73b1d8c7-3ec6-425c-b7f8-56ccbdbcefe6",
   "metadata": {},
   "outputs": [],
   "source": [
    "d, N = 1, 5\n",
    "X = rand(d, N)\n",
    "\n",
    "# Construct covariance measure\n",
    "θ = [1.]\n",
    "ψ = kernel_matern52(θ);"
   ]
  },
  {
   "cell_type": "code",
   "execution_count": 5,
   "id": "e0329830-303f-472c-ae92-98a350dce371",
   "metadata": {},
   "outputs": [
    {
     "data": {
      "text/plain": [
       "5×5 LowerTriangular{Float64, Adjoint{Float64, Matrix{Float64}}}:\n",
       " 1.0        ⋅          ⋅          ⋅          ⋅ \n",
       " 0.796714  0.604357    ⋅          ⋅          ⋅ \n",
       " 0.721109  0.683479   0.113402    ⋅          ⋅ \n",
       " 0.830355  0.55551   -0.0410335  0.0153446   ⋅ \n",
       " 0.59645   0.736906   0.300071   0.0617249  0.0858285"
      ]
     },
     "execution_count": 5,
     "metadata": {},
     "output_type": "execute_result"
    }
   ],
   "source": [
    "slice = 1:2\n",
    "Kbegin = eval_KXX(ψ, X[:, slice])\n",
    "fKbegin = cholesky(Kbegin).U'\n",
    "\n",
    "Kend = eval_KXX(ψ, X)\n",
    "fKend  = cholesky(Kend).U'"
   ]
  },
  {
   "cell_type": "markdown",
   "id": "62dfb68b-5593-4110-88dc-d7e31211b363",
   "metadata": {},
   "source": [
    "Given the initial factorization and the final factorization, let's compute the updated factorization using the logic stated previously and see if our results are comparable."
   ]
  },
  {
   "cell_type": "code",
   "execution_count": 12,
   "id": "b1ae09a7-7476-4a21-81b5-76254d7b0141",
   "metadata": {},
   "outputs": [
    {
     "data": {
      "text/plain": [
       "3×3 Matrix{Float64}:\n",
       " -2.00763  -2.00403  -1.87968\n",
       " -2.00403  -1.9576   -1.91914\n",
       " -1.87968  -1.91914  -1.70093"
      ]
     },
     "execution_count": 12,
     "metadata": {},
     "output_type": "execute_result"
    }
   ],
   "source": [
    "B = Kend[3:end, 1:2]\n",
    "C = Kend[3:end, 3:end]\n",
    "L0 = fKbegin\n",
    "G = B * inv(L0)\n",
    "HH = C - (G*G')"
   ]
  },
  {
   "cell_type": "markdown",
   "id": "b17288d1-b005-4b8b-a5d3-3e27f061ce73",
   "metadata": {},
   "source": [
    "1. $L_0L_0 = A_0$\n",
    "2. $L_0G = B^T$\n",
    "3. $GL_0 = B$\n",
    "4. $HH = C - (BL_0^{-1}BL_0^{-1})$"
   ]
  },
  {
   "cell_type": "code",
   "execution_count": 14,
   "id": "dcd52e41-21f6-4ab3-a89f-eec93647b27f",
   "metadata": {},
   "outputs": [
    {
     "data": {
      "text/plain": [
       "3×3 Matrix{ComplexF64}:\n",
       "  0.0331153+0.837017im  -0.0129351+0.835119im  -0.0216347+0.781881im\n",
       " -0.0129351+0.835119im    0.147647+0.833225im   -0.143853+0.780108im\n",
       " -0.0216347+0.781881im   -0.143853+0.780108im    0.176808+0.730377im"
      ]
     },
     "execution_count": 14,
     "metadata": {},
     "output_type": "execute_result"
    }
   ],
   "source": [
    "H = sqrt(HH)"
   ]
  },
  {
   "cell_type": "code",
   "execution_count": 15,
   "id": "46a7241a-ac25-41eb-9129-2ab5130dba14",
   "metadata": {},
   "outputs": [
    {
     "data": {
      "text/plain": [
       "true"
      ]
     },
     "execution_count": 15,
     "metadata": {},
     "output_type": "execute_result"
    }
   ],
   "source": [
    "H*H ≈ HH"
   ]
  },
  {
   "cell_type": "code",
   "execution_count": null,
   "id": "047aea8a-fc78-474b-baa4-5a8b9090d138",
   "metadata": {},
   "outputs": [],
   "source": []
  }
 ],
 "metadata": {
  "kernelspec": {
   "display_name": "Julia 1.8.4",
   "language": "julia",
   "name": "julia-1.8"
  },
  "language_info": {
   "file_extension": ".jl",
   "mimetype": "application/julia",
   "name": "julia",
   "version": "1.8.4"
  }
 },
 "nbformat": 4,
 "nbformat_minor": 5
}
