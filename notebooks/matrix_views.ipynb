{
 "cells": [
  {
   "cell_type": "markdown",
   "id": "441af8f5-d7d4-457d-8575-bc60d4dce1fd",
   "metadata": {},
   "source": [
    "## Increasing Computational Efficacy by Smarter Utilization of Memory Associated With Kernel Matrices\n",
    "### Questions\n",
    "- [ ] How do we update the cholesky factorization without computing an entirely new decomposition?\n",
    "\n",
    "### Issues\n",
    "- [ ] The final subroutine of computing covariances of fantasized gradients against other fantasized gradients needs to be checked. I believe the hessian computation has a sign error somewhere.\n",
    "- Subroutine 7 has an issue with it's indices. I need to refactor the logic to support comparing the covariances of the current fantasized gradient sample against all previous fantasized gradient samples."
   ]
  },
  {
   "cell_type": "code",
   "execution_count": 1,
   "id": "6437488b-c2e9-4338-ae5f-030fe4413e35",
   "metadata": {},
   "outputs": [],
   "source": [
    "using DataFrames\n",
    "using LinearAlgebra\n",
    "using Plots"
   ]
  },
  {
   "cell_type": "code",
   "execution_count": 91,
   "id": "326750e5-7e6b-4061-bfc5-f7d1bcf9739c",
   "metadata": {},
   "outputs": [
    {
     "data": {
      "text/plain": [
       "TestGramacyLee (generic function with 1 method)"
      ]
     },
     "execution_count": 91,
     "metadata": {},
     "output_type": "execute_result"
    }
   ],
   "source": [
    "include(\"../rollout.jl\")\n",
    "include(\"../testfns.jl\")\n",
    "include(\"../testfns.jl\")"
   ]
  },
  {
   "cell_type": "code",
   "execution_count": 611,
   "id": "aea5bc99-5183-4eb5-a13e-7daa2ca8f7e6",
   "metadata": {},
   "outputs": [
    {
     "data": {
      "text/plain": [
       "get_KXX (generic function with 1 method)"
      ]
     },
     "execution_count": 611,
     "metadata": {},
     "output_type": "execute_result"
    }
   ],
   "source": [
    "include(\"./CovarianceMatrix.jl\")"
   ]
  },
  {
   "cell_type": "code",
   "execution_count": 612,
   "id": "0358517a-ae78-40e8-83ed-4ef763a4b462",
   "metadata": {},
   "outputs": [
    {
     "data": {
      "text/plain": [
       "2×3 Matrix{Float64}:\n",
       " 0.701269  0.503061   0.63559\n",
       " 0.461188  0.0407565  0.690117"
      ]
     },
     "execution_count": 612,
     "metadata": {},
     "output_type": "execute_result"
    }
   ],
   "source": [
    "m, h, d = 1, 1, 2\n",
    "psm = PreallocatedSymmetricMatrix{Float64}(m, h, d)\n",
    "X = rand(d, m+h+1)"
   ]
  },
  {
   "cell_type": "code",
   "execution_count": 613,
   "id": "17cea81b-d697-4da8-83b7-91e3f7e4a659",
   "metadata": {},
   "outputs": [
    {
     "data": {
      "text/plain": [
       "1.0e-6"
      ]
     },
     "execution_count": 613,
     "metadata": {},
     "output_type": "execute_result"
    }
   ],
   "source": [
    "# Construct covariance measure\n",
    "θ = [1.]\n",
    "ψ = kernel_matern52(θ);\n",
    "σn2 = 1e-6"
   ]
  },
  {
   "cell_type": "markdown",
   "id": "b3afa14c-7ab3-4609-a83e-c02944f88d59",
   "metadata": {},
   "source": [
    "## Building the Matrix via Subroutines"
   ]
  },
  {
   "cell_type": "code",
   "execution_count": 614,
   "id": "1af3794d-10d9-4ef7-b886-5a8dffbb72fb",
   "metadata": {},
   "outputs": [
    {
     "name": "stdout",
     "output_type": "stream",
     "text": [
      "Gradient Index: 1\n",
      "G = (2, 2), L31 = (2, 1), L32 = (2, 1)\n",
      "Gradient Index: 2\n",
      "G = (4, 4), L31 = (4, 1), L32 = (4, 2)\n"
     ]
    }
   ],
   "source": [
    "# Subroutine Order: 1, 2->3->4->5->8->6->7\n",
    "Knews = []\n",
    "# Subroutine number 1: Knowns against knowns\n",
    "Kupdate = eval_KXX(ψ, X[:, 1:m]; σn2=σn2)\n",
    "fKupdate = cholesky(Kupdate).U'\n",
    "update_knowns!(psm, Kupdate)\n",
    "cholesky_update_knowns!(psm, fKupdate)\n",
    "\n",
    "for fndx in m+1:m+h+1\n",
    "    # Subroutine number 2: Fantasized against knowns\n",
    "    Kupdate = eval_KXY(ψ, X[:, fndx:fndx], X[:, 1:m])\n",
    "    update_fantasized_vs_knowns!(psm, Kupdate, fndx)\n",
    "    cholesky_update_fantasized_vs_knowns!(psm, fndx)\n",
    "       \n",
    "    # Subroutine number 3: Fantasized against fantasized\n",
    "    Kupdate = eval_KXX(ψ, X[:, m+1:fndx]; σn2=σn2)\n",
    "    update_fantasized_vs_fantasized!(psm, Kupdate, fndx)\n",
    "    cholesky_update_fantasized_vs_fantasized!(psm, fndx)\n",
    "    \n",
    "    # 4 + 5\n",
    "    # Kupdate = eval_∇KxX(ψ, X[:, fndx], X[:, 1:fndx])\n",
    "    # update_gradfantasized_vs_fantasized_and_known!(psm, Kupdate, fndx-m) # (fndx - m)th grad\n",
    "    \n",
    "    # Subroutine number 4: Fantasized gradients against knowns\n",
    "    Kupdate = eval_∇KxX(ψ, X[:, fndx], X[:, 1:m])\n",
    "    update_gradfantasized_vs_known!(psm, Kupdate, fndx-m) # (fndx - m)th grad\n",
    "    cholesky_update_gradfantasized_vs_known!(psm, fndx-m)\n",
    "    \n",
    "    # Subroutine number 5: Fantasized gradients against fantasized gradients\n",
    "    Kupdate = eval_∇KxX(ψ, X[:, fndx], X[:, m+1:fndx])\n",
    "    update_gradfantasized_vs_fantasized!(psm, Kupdate, fndx-m)\n",
    "    # cholesky_update_gradfantasized_vs_fantasized!(psm, fndx-m)\n",
    "    \n",
    "    # Subroutine number 8:\n",
    "    if fndx-m > 1\n",
    "        Kupdate = -eval_∇KxX(ψ, X[:, fndx], X[:, m+1:fndx-1])\n",
    "        klength = size(Kupdate, 1) * size(Kupdate,2)\n",
    "        Kupdate = reshape(Kupdate, klength)\n",
    "        update_fantasized_vs_allprev_gradfantasized!(psm, Kupdate, fndx-m)\n",
    "    end\n",
    "    println(\"Gradient Index: $(fndx-m)\")\n",
    "    # cholesky_update_fantasized_vs_allprev_gradfantasized!(psm, fndx-m)\n",
    "    cholesky_update_gradfantasized_vs_fantasized!(psm, fndx-m)\n",
    "    \n",
    "    # # Subroutine number 6: Fantasized gradients against self fantasized gradients\n",
    "    Kupdate = -eval_Hk(ψ, zeros(d))\n",
    "    update_gradfantasized_vs_self!(psm, Kupdate, fndx-m)\n",
    "    \n",
    "    # Subroutine number 7: Fantasized gradients against other fantasized gradients\n",
    "    Knews = []\n",
    "    grad_ndx = fndx - m\n",
    "    \n",
    "    # Skip first gradient observation since previous fantasized values don't exist yet\n",
    "    for j in 1:grad_ndx-1 # fndx-m computes the kth gradient ndx starting from 1\n",
    "        Kn = -eval_Hk(ψ, X[:, fndx] - X[:, fndx - j])\n",
    "        push!(Knews, Kn)\n",
    "    end\n",
    "    \n",
    "    # Reverse here since we go from current gradient observation to the first\n",
    "    # To adjust this, fndx - j should just go from the beginning to fndx\n",
    "    Knews = reverse(Knews)\n",
    "    if fndx-m > 1\n",
    "        Kupdate = Knews[1]\n",
    "        for i = 2:length(Knews)\n",
    "            Kupdate = hcat(Kupdate, Knews[i])\n",
    "        end\n",
    "        \n",
    "        update_gradfantasized_vs_gradfantasized!(psm, Kupdate, fndx-m)\n",
    "    end\n",
    "    cholesky_update_gradfantasized_vs_gradfantasized!(psm, fndx-m)\n",
    "end"
   ]
  },
  {
   "cell_type": "markdown",
   "id": "89eec12e-affa-4629-a988-31e83a7d1d28",
   "metadata": {},
   "source": [
    "$$\n",
    "L_{32} = (E - L_{31}L_{21}^T)L_{22}^{-T}\n",
    "$$"
   ]
  },
  {
   "cell_type": "code",
   "execution_count": 617,
   "id": "ad0739a2-055c-4eca-b873-5c41a19ebe97",
   "metadata": {},
   "outputs": [
    {
     "data": {
      "text/plain": [
       "7×7 LowerTriangular{Float64, Matrix{Float64}}:\n",
       "  1.0          ⋅          ⋅           ⋅          ⋅         ⋅         ⋅ \n",
       "  0.848642    0.528968    ⋅           ⋅          ⋅         ⋅         ⋅ \n",
       "  0.955271   -0.152142   0.253595     ⋅          ⋅         ⋅         ⋅ \n",
       "  0.238275   -0.382272  -0.635758    1.02935     ⋅         ⋅         ⋅ \n",
       "  0.505419   -0.810862   0.0161544  -0.408147   0.766078   ⋅         ⋅ \n",
       "  0.0984935  -0.393479  -0.607082    0.336828  -0.501893  0.876494   ⋅ \n",
       " -0.343305   -0.602933   0.931478    0.272575  -0.101441  0.250238  0.412822"
      ]
     },
     "execution_count": 617,
     "metadata": {},
     "output_type": "execute_result"
    }
   ],
   "source": [
    "psm.fK[]"
   ]
  },
  {
   "cell_type": "code",
   "execution_count": 618,
   "id": "f330d309-80d8-44db-9a8d-8d8708af7226",
   "metadata": {},
   "outputs": [
    {
     "data": {
      "text/plain": [
       "7×7 LowerTriangular{Float64, Matrix{Float64}}:\n",
       "  1.0          ⋅          ⋅           ⋅          ⋅         ⋅         ⋅ \n",
       "  0.848642    0.528968    ⋅           ⋅          ⋅         ⋅         ⋅ \n",
       "  0.955271   -0.152142   0.253595     ⋅          ⋅         ⋅         ⋅ \n",
       "  0.238275   -0.382272  -0.635758    1.02935     ⋅         ⋅         ⋅ \n",
       "  0.505419   -0.810862   0.0161544  -0.408147   0.766078   ⋅         ⋅ \n",
       "  0.0984935  -0.393479  -0.607082    0.336828  -0.501893  0.876494   ⋅ \n",
       " -0.343305   -0.602933   0.931478    0.272575  -0.101441  0.250238  0.412822"
      ]
     },
     "execution_count": 618,
     "metadata": {},
     "output_type": "execute_result"
    }
   ],
   "source": [
    "cholesky(psm.K[]).L"
   ]
  },
  {
   "cell_type": "code",
   "execution_count": 619,
   "id": "163834dd-0602-47d0-af7f-3a4ca6f812c5",
   "metadata": {},
   "outputs": [
    {
     "data": {
      "text/plain": [
       "true"
      ]
     },
     "execution_count": 619,
     "metadata": {},
     "output_type": "execute_result"
    }
   ],
   "source": [
    "psm.fK[] ≈ cholesky(psm.K[]).L"
   ]
  },
  {
   "cell_type": "markdown",
   "id": "1d3cef10-86f3-4665-883e-0b1fedf420b3",
   "metadata": {},
   "source": [
    "# A Toy Example Problem"
   ]
  },
  {
   "cell_type": "code",
   "execution_count": null,
   "id": "76938414-f425-41dd-abd7-3dfad69d89e2",
   "metadata": {},
   "outputs": [],
   "source": [
    "testfn = TestAckley(1)\n",
    "tplot(testfn)"
   ]
  },
  {
   "cell_type": "code",
   "execution_count": null,
   "id": "5df32814-e85d-4360-b040-23154743682c",
   "metadata": {},
   "outputs": [],
   "source": [
    "# Checking my logic for a single update to a cholesky factorization\n",
    "Xcur = rand(2, 2)\n",
    "Xupdate = hcat(Xcur, rand(2, 1))\n",
    "\n",
    "Kcur = eval_KXX(ψ, Xcur)\n",
    "Lcur = cholesky(Kcur).U'\n",
    "Kupdate = eval_KXX(ψ, Xupdate)\n",
    "Lupdate = cholesky(Kupdate).U'\n",
    "\n",
    "l31 = Kupdate[3,1] / Lcur[1,1]\n",
    "l32 = (Kupdate[3, 2] - l31*Lcur[2,1]) / Lcur[2,2]\n",
    "l33 = sqrt(Kupdate[3,3] - l31^2 - l32^2)\n",
    "\n",
    "Lother = [Lcur zeros(2, 1);\n",
    "          l31 l32 l33]\n",
    "\n",
    "@assert Lother ≈ Lupdate"
   ]
  },
  {
   "cell_type": "code",
   "execution_count": 626,
   "id": "84132e2f-d56d-4052-819b-c85c8e9fdd23",
   "metadata": {},
   "outputs": [
    {
     "data": {
      "text/plain": [
       "8000048"
      ]
     },
     "execution_count": 626,
     "metadata": {},
     "output_type": "execute_result"
    }
   ],
   "source": [
    "@allocated Z = rand(1000, 1000)"
   ]
  },
  {
   "cell_type": "code",
   "execution_count": 627,
   "id": "19103340-858b-46f5-8108-43d73a0408aa",
   "metadata": {},
   "outputs": [
    {
     "data": {
      "text/plain": [
       "8000000"
      ]
     },
     "execution_count": 627,
     "metadata": {},
     "output_type": "execute_result"
    }
   ],
   "source": [
    "sizeof(Z)"
   ]
  },
  {
   "cell_type": "code",
   "execution_count": 624,
   "id": "1267f628-e2f6-4f3e-98c1-89a3898c4e3b",
   "metadata": {},
   "outputs": [
    {
     "data": {
      "text/plain": [
       "160"
      ]
     },
     "execution_count": 624,
     "metadata": {},
     "output_type": "execute_result"
    }
   ],
   "source": [
    "@allocated V = @view Z[10:end, 10:end]"
   ]
  },
  {
   "cell_type": "code",
   "execution_count": null,
   "id": "1a83aa42-42a0-414a-8a9d-8101e81b373b",
   "metadata": {},
   "outputs": [],
   "source": []
  }
 ],
 "metadata": {
  "kernelspec": {
   "display_name": "Julia 1.8.4",
   "language": "julia",
   "name": "julia-1.8"
  },
  "language_info": {
   "file_extension": ".jl",
   "mimetype": "application/julia",
   "name": "julia",
   "version": "1.8.4"
  }
 },
 "nbformat": 4,
 "nbformat_minor": 5
}
