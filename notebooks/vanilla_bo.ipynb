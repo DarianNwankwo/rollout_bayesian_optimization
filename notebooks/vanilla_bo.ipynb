{
 "cells": [
  {
   "cell_type": "code",
   "execution_count": null,
   "id": "ac4d2db9-13af-48b7-80a9-71f21a6cbcc2",
   "metadata": {},
   "outputs": [],
   "source": [
    "using Distributions\n",
    "using LinearAlgebra\n",
    "using Plots\n",
    "using Test\n",
    "using Sobol\n",
    "using Optim\n",
    "using Profile\n",
    "using PProf\n",
    "using Random"
   ]
  },
  {
   "cell_type": "code",
   "execution_count": null,
   "id": "ecfd792f-ebe1-414a-9ad3-7c690ed20ff4",
   "metadata": {},
   "outputs": [],
   "source": [
    "include(\"../rollout.jl\")\n",
    "include(\"../testfns.jl\")"
   ]
  },
  {
   "cell_type": "markdown",
   "id": "30efe8e4-065c-4f59-93a1-d9830d867fb5",
   "metadata": {},
   "source": [
    "### Psuedo-code for Rollout Bayesian Optimization\n",
    "1. Generate low-discrepancy sequence for Quasi-Monte Carlo\n",
    "2. Gather initial samples/experimental data\n",
    "3. Construct the ground truth surrogate model\n",
    "4. Setup hyperparameters for stochastic gradient descent\n",
    "5. While budget has not been exhausted\n",
    "<ol>\n",
    "    <li>\n",
    "        Construct a batch of samples for stochastic gradient descent. For each sample\n",
    "        <ol>\n",
    "            <li>Create a copy of the ground truth surrogate at the sample location and the pairwise perturbed surrogate.</li>\n",
    "            <li style=\"color: #f66\">Initialize our trajectory struct with the fantasized surrogate and fantisized perturbed surrogate and fantasy start location.</li>\n",
    "            <li>Perform rollout on the trajectory for $r$ steps $M_0$ times for Quasi-Monte Carlo integration.</li>\n",
    "            <li>Update values for $\\alpha$ and $\\nabla\\alpha$</li>\n",
    "        </ol>\n",
    "    </li>\n",
    "    <li>Once SGD has converged, update sample location using update rule</li>\n",
    "    <li>Save location and value at location for each sample in batch.</li>\n",
    "    <li>Select the best sample from the batch and sample original process at new sample location.</li>\n",
    "    <li>Update surrogate model with value found at new sample location.</li>\n",
    "    <li>Repeat until budget is exhausted.</li>\n",
    "</ol>\n",
    "\n",
    "### Issues\n",
    "- Use control variates to see how they affect the rollout acquisition functions"
   ]
  },
  {
   "cell_type": "markdown",
   "id": "740e67f2-8b9f-4579-bb03-a72305371f58",
   "metadata": {
    "tags": []
   },
   "source": [
    "#### Probability of Improvement\n",
    "The probability of improvement (POI) is defined as follows:\n",
    "\n",
    "$$\n",
    "POI(x) = \\Phi\\left( \\frac{\\mu(x) - f^+ - \\xi}{\\sigma(x)} \\right)\n",
    "$$\n",
    "\n",
    "where $f^+$ denotes the best value (maximum) known, $\\mu(x)$ is the predictive mean at x, $\\sigma(x)$ is the predictive variance, $\\xi$ is our exploration parameter, and $\\Phi$ is the standard normal cumulative distribution function.\n",
    "<hr>\n",
    "\n",
    "#### Expected Improvement\n",
    "The expected improvement (EI) is defined as follows:\n",
    "\n",
    "$$\n",
    "EI(x) = (\\mu(x) - f^+ - \\xi)\\Phi\\left( \\frac{\\mu(x) - f^+ - \\xi}{\\sigma(x)} \\right) +\n",
    "        \\sigma(x)\\phi\\left(\\frac{\\mu(x) - f^+ - \\xi}{\\sigma(x)}\\right)\n",
    "$$\n",
    "\n",
    "where $\\phi$ is the standard normal probability density function.\n",
    "<hr>"
   ]
  },
  {
   "cell_type": "code",
   "execution_count": null,
   "id": "fb46be93-ff4d-430e-8235-6379a15d7a8f",
   "metadata": {},
   "outputs": [],
   "source": [
    "function ei(μ, σ, fbest)\n",
    "    z = (fbest - μ) / σ\n",
    "    Φz = Distributions.normcdf(z)\n",
    "    ϕz = Distributions.normpdf(z)\n",
    "    return σ*(z*Φz + ϕz)\n",
    "end\n",
    "\n",
    "function poi(μ, σ, fbest)\n",
    "    z = (fbest - μ) / σ\n",
    "    Φz = Distributions.normcdf(z)\n",
    "    return Φz\n",
    "end"
   ]
  },
  {
   "cell_type": "code",
   "execution_count": null,
   "id": "9326ad1f-b1a8-41d6-98d4-f81de8dad559",
   "metadata": {},
   "outputs": [],
   "source": [
    "# Global parameters\n",
    "MAX_SGD_ITERS = 1500\n",
    "BATCH_SIZE = 10\n",
    "HORIZON = 0\n",
    "MC_SAMPLES = 150\n",
    "BUDGET = 10;"
   ]
  },
  {
   "cell_type": "markdown",
   "id": "e970b06e-5a3a-4fae-a41a-48bddde43d8e",
   "metadata": {},
   "source": [
    "### 1. Generate low-discrepancy sequence for Quasi-Monte Carlo"
   ]
  },
  {
   "cell_type": "code",
   "execution_count": null,
   "id": "e69b38c0-0e1e-4454-9dc4-364a4ccf4639",
   "metadata": {},
   "outputs": [],
   "source": [
    "# Setup toy problem\n",
    "# testfn = TestFunction(\n",
    "#     1, [0. 1.], [.5],\n",
    "#     x -> 0. + 1e-6*randn(),\n",
    "#     ∇x -> [0. + 1e-6*randn()]\n",
    "# )\n",
    "testfn = TestGramacyLee()\n",
    "lbs, ubs = testfn.bounds[:,1], testfn.bounds[:,2]\n",
    "\n",
    "# Setup low discrepancy random number stream\n",
    "lds_rns = gen_low_discrepancy_sequence(MC_SAMPLES, testfn.dim, HORIZON+1);\n",
    "rns = randn(MC_SAMPLES, testfn.dim+1, HORIZON+1);"
   ]
  },
  {
   "cell_type": "code",
   "execution_count": null,
   "id": "45eca1bf-7282-46b3-ba31-da6bb3a39db8",
   "metadata": {},
   "outputs": [],
   "source": [
    "tplot(testfn)"
   ]
  },
  {
   "cell_type": "markdown",
   "id": "4678e423-32e5-4b01-aae5-03d1aef751fc",
   "metadata": {},
   "source": [
    "### 2. Gather initial samples/experimental data"
   ]
  },
  {
   "cell_type": "code",
   "execution_count": null,
   "id": "1fb679e5-f73a-43f6-9f41-21acd5a0294a",
   "metadata": {},
   "outputs": [],
   "source": [
    "# Gather initial samples/experimental data\n",
    "N, θ = 1, [.25]\n",
    "# X = [.15, .85]\n",
    "X = [2.0, 2.5]\n",
    "X = reshape(X, 1, length(X))\n",
    "# ψ = kernel_matern52(θ);\n",
    "ψ = kernel_scale(kernel_matern52, [1., θ...]);"
   ]
  },
  {
   "cell_type": "markdown",
   "id": "755d46cc-e399-408e-9ab4-ebde68ab9343",
   "metadata": {},
   "source": [
    "### 3. Construct the ground truth surrogate model"
   ]
  },
  {
   "cell_type": "code",
   "execution_count": null,
   "id": "832624d6-1420-4c41-9b08-3603cca5311a",
   "metadata": {},
   "outputs": [],
   "source": [
    "sur = fit_surrogate(ψ, X, testfn.f);\n",
    "# θ, sur = optimize_hypers(ψ.θ, kernel_matern52, sur.X, testfn.f);"
   ]
  },
  {
   "cell_type": "code",
   "execution_count": null,
   "id": "423926a8-dea6-48d0-a474-142f763c74b8",
   "metadata": {},
   "outputs": [],
   "source": [
    "domain = filter(x -> !(x in X), lbs[1]:.01:ubs[1])\n",
    "scatter(sur.X', sur.y)\n",
    "plot!(domain, [sur([x]).μ for x in domain],\n",
    "    ribbons=2*[sur([x]).σ for x in domain], label=\"μ ± 2σ\")\n",
    "plot!(domain, [sur([x]).EI for x in domain], label=\"EI\")"
   ]
  },
  {
   "cell_type": "markdown",
   "id": "8594aabc-2663-452a-a3bc-535a26bd3b4f",
   "metadata": {},
   "source": [
    "### 4. Setup hyperparameters for stochastic gradient descent"
   ]
  },
  {
   "cell_type": "code",
   "execution_count": null,
   "id": "d6cd22fd-2eac-4027-a0f9-b2f911161db3",
   "metadata": {},
   "outputs": [],
   "source": [
    "# Define the parameters of the optimizer\n",
    "λ = 0.01  # Learning rate\n",
    "β1 = 0.9  # First moment decay rate\n",
    "β2 = 0.999  # Second moment decay rate\n",
    "ϵ = 1e-8  # Epsilon value\n",
    "\n",
    "# Define the initial position and moment estimates\n",
    "m = zeros(testfn.dim)\n",
    "v = zeros(testfn.dim)\n",
    "\n",
    "ϵsgd = 1e-12\n",
    "grad_tol = 1e-5"
   ]
  },
  {
   "cell_type": "markdown",
   "id": "a1bb163c-c548-4c52-8e17-40baae9027e4",
   "metadata": {},
   "source": [
    "### 5. While budget has not been exhausted\n",
    "Each location in our minibatch is going to be our $x^0$ that serves as our deterministic start location. Then, we perform rollout from that point forward, computing several sample trajectories to then be averaged."
   ]
  },
  {
   "cell_type": "markdown",
   "id": "4450c155-374a-4baf-aab8-90c13f8d2d95",
   "metadata": {},
   "source": [
    "We need a few mechanisms:\n",
    "* We shouldn't sample at locations that are near known locations in sur.X\n",
    "* We should perform the evaluations in parallel to save time"
   ]
  },
  {
   "cell_type": "code",
   "execution_count": null,
   "id": "e2b699bf-d6ff-4d01-a07f-c7378490fcbf",
   "metadata": {
    "tags": []
   },
   "outputs": [],
   "source": [
    "∇αxs = []\n",
    "batch = []\n",
    "\n",
    "final_locations = []\n",
    "\n",
    "for b in 1:BUDGET\n",
    "    # Generate a batch of evaluation locations and filter out locations that are close\n",
    "    # to know sample locations\n",
    "    batch = generate_batch(BATCH_SIZE; lbs=lbs, ubs=ubs)\n",
    "    batch = convert(Matrix{Float64}, filter(x -> !(x in sur.X), batch)')\n",
    "    \n",
    "    batch_evals = []\n",
    "    final_locations = []\n",
    "    \n",
    "    # This should be a parallel for loop\n",
    "    println(\"---------- BO Iteration #$b ----------\")\n",
    "    bndx = 1\n",
    "    for x0 in eachcol(batch)\n",
    "        try\n",
    "            x0 = convert(Vector{Float64}, x0)\n",
    "\n",
    "            αxs, ∇αxs = [], []\n",
    "            ∇αxs = [0., 1., 2.]\n",
    "\n",
    "            print(\"\\n(Batch #$bndx - $x0) Gradient Ascent Iteration Count: \")\n",
    "            # Run SGD until convergence\n",
    "            fprev, fnow = 0., 1.\n",
    "            for epoch in 1:MAX_SGD_ITERS\n",
    "                if mod(epoch, 25) == 0 print(\"|\") end\n",
    "                μx, ∇μx = simulate_trajectory(\n",
    "                    sur; mc_iters=MC_SAMPLES, rnstream=lds_rns, lbs=lbs, ubs=ubs, x0=x0\n",
    "                )\n",
    "\n",
    "                # Update gradient vector\n",
    "                push!(αxs, μx)\n",
    "                push!(∇αxs, first(∇μx))\n",
    "\n",
    "                fprev = fnow\n",
    "                fnow = μx\n",
    "\n",
    "                # Update x0 based on gradient computation\n",
    "                # x0, m, v = update_x_adam(x0; ∇g=-∇μx, λ=λ, β1=β1, β2=β2, ϵ=ϵ, m=m, v=v, lbs=lbs, ubs=ubs)\n",
    "                x0 = update_x(x0; λ=λ, ∇g=∇μx, lbs=lbs, ubs=ubs)\n",
    "\n",
    "                if abs(fnow - fprev) < ϵsgd || norm(∇μx) < grad_tol\n",
    "                    println(\"\\nConverged after $epoch epochs\")\n",
    "                    println(\"abs(fnow - fprev): $(abs(fnow - fprev)) - fnow: $fnow - fprev: $fprev\")\n",
    "                    break\n",
    "                end\n",
    "\n",
    "            end\n",
    "\n",
    "            push!(batch_evals, αxs[end])\n",
    "            push!(final_locations, x0)\n",
    "            bndx += 1\n",
    "        catch e\n",
    "            bndx += 1\n",
    "            println(e)\n",
    "        end\n",
    "    end\n",
    "    # Iterate over batch for best response and sample original process afterwards\n",
    "    if length(batch_evals) > 0\n",
    "        println()\n",
    "        [println(\"α($(pair[1])) = $(pair[2])\") for pair in zip(final_locations, batch_evals)]\n",
    "        ndx = argmax(batch_evals)\n",
    "        xnew = final_locations[ndx]\n",
    "\n",
    "        # Sample original process at x0\n",
    "        println(\"\\nFinal xnew: $xnew\")\n",
    "        println(\"--------------------------------------\\n\")\n",
    "        res = optimize_hypers_optim(sur, kernel_matern52)\n",
    "        σ, ℓ = Optim.minimizer(res)\n",
    "        ψ = kernel_scale(kernel_matern52, [σ, ℓ]);\n",
    "        sur = fit_surrogate(\n",
    "            ψ,\n",
    "            hcat(sur.X, xnew),\n",
    "            vcat(sur.y, testfn.f(xnew))\n",
    "        )\n",
    "    end\n",
    "end"
   ]
  },
  {
   "cell_type": "code",
   "execution_count": null,
   "id": "8bfea303-c85d-49f5-8962-0d7bf899eef3",
   "metadata": {},
   "outputs": [],
   "source": [
    "domain = filter(x -> !(x in sur.X), lbs[1]:.01:ubs[1])\n",
    "scatter(sur.X', sur.y)\n",
    "plot!(domain, [sur([x]).μ for x in domain],\n",
    "    ribbons=2*[sur([x]).σ for x in domain], label=\"μ ± 2σ\")\n",
    "plot!(domain, [sur([x]).EI for x in domain], label=\"EI\")"
   ]
  },
  {
   "cell_type": "code",
   "execution_count": null,
   "id": "cd544961-4627-45aa-bdbe-804141b36965",
   "metadata": {},
   "outputs": [],
   "source": [
    "sur.X'"
   ]
  },
  {
   "cell_type": "code",
   "execution_count": null,
   "id": "a9aabc09-5aac-43ac-a4cf-3a0bdf46587c",
   "metadata": {},
   "outputs": [],
   "source": [
    "2.5-2.375"
   ]
  },
  {
   "cell_type": "code",
   "execution_count": null,
   "id": "f4fa7d5b-c0d9-4819-a8ae-390dba0bbfa1",
   "metadata": {},
   "outputs": [],
   "source": []
  }
 ],
 "metadata": {
  "kernelspec": {
   "display_name": "Julia 1.8.5",
   "language": "julia",
   "name": "julia-1.8"
  },
  "language_info": {
   "file_extension": ".jl",
   "mimetype": "application/julia",
   "name": "julia",
   "version": "1.8.5"
  }
 },
 "nbformat": 4,
 "nbformat_minor": 5
}
