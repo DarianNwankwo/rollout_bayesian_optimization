{
 "cells": [
  {
   "cell_type": "code",
   "execution_count": null,
   "id": "d22a8faf-a44c-4832-a2c0-4aed162be714",
   "metadata": {},
   "outputs": [],
   "source": [
    "using Random"
   ]
  },
  {
   "cell_type": "code",
   "execution_count": null,
   "id": "ecfd792f-ebe1-414a-9ad3-7c690ed20ff4",
   "metadata": {},
   "outputs": [],
   "source": [
    "include(\"../rollout.jl\")"
   ]
  },
  {
   "cell_type": "code",
   "execution_count": null,
   "id": "3df53765-9bcb-4af4-9450-6ec8c2608a4b",
   "metadata": {},
   "outputs": [],
   "source": [
    "include(\"../testfns.jl\")"
   ]
  },
  {
   "cell_type": "markdown",
   "id": "30efe8e4-065c-4f59-93a1-d9830d867fb5",
   "metadata": {},
   "source": [
    "### Psuedo-code for Rollout Bayesian Optimization\n",
    "1. Generate low-discrepancy sequence for Quasi-Monte Carlo\n",
    "2. Gather initial samples/experimental data\n",
    "3. Construct the ground truth surrogate model\n",
    "4. Setup hyperparameters for stochastic gradient descent\n",
    "5. While budget has not been exhausted\n",
    "<ol>\n",
    "    <li>\n",
    "        Construct a batch of samples for stochastic gradient descent. For each sample\n",
    "        <ol>\n",
    "            <li>Create a copy of the ground truth surrogate at the sample location and the pairwise perturbed surrogate.</li>\n",
    "            <li style=\"color: #f66\">Initialize our trajectory struct with the fantasized surrogate and fantisized perturbed surrogate and fantasy start location.</li>\n",
    "            <li>Perform rollout on the trajectory for $r$ steps $M_0$ times for Quasi-Monte Carlo integration.</li>\n",
    "            <li>Update values for $\\alpha$ and $\\nabla\\alpha$</li>\n",
    "        </ol>\n",
    "    </li>\n",
    "    <li>Once SGD has converged, update sample location using update rule</li>\n",
    "    <li>Save location and value at location for each sample in batch.</li>\n",
    "    <li>Select the best sample from the batch and sample original process at new sample location.</li>\n",
    "    <li>Update surrogate model with value found at new sample location.</li>\n",
    "    <li>Repeat until budget is exhausted.</li>\n",
    "</ol>\n",
    "\n",
    "### Issues\n",
    "- Use control variates to see how they affect the rollout acquisition functions"
   ]
  },
  {
   "cell_type": "code",
   "execution_count": null,
   "id": "d150d346-f047-477e-a63d-02e8bf5bb441",
   "metadata": {},
   "outputs": [],
   "source": [
    "function measure_gap(sur::RBFsurrogate, fbest)\n",
    "    gaps = []\n",
    "    init_mini = sur.y[1] .+ sur.ymean\n",
    "    maximum_possible_reduction = init_mini - fbest\n",
    "    \n",
    "    for i in 1:length(sur.y)\n",
    "        cur_mini = minimum(sur.y[1:i]) .+ sur.ymean\n",
    "        gap = (init_mini - cur_mini) / maximum_possible_reduction\n",
    "        # if init_mini - cur_mini > maximum_possible_reduction\n",
    "        #     println(\"Numerator: $(init_mini - cur_mini) -- Denominator: $maximum_possible_reduction\")\n",
    "        #     println(\"Current Minimum\")\n",
    "        # end\n",
    "        push!(gaps, gap)\n",
    "    end\n",
    "    \n",
    "    return gaps\n",
    "end"
   ]
  },
  {
   "cell_type": "code",
   "execution_count": null,
   "id": "eb5908a3-1525-4c89-9c68-55af08429d4f",
   "metadata": {},
   "outputs": [],
   "source": [
    "HORIZON = 0\n",
    "MC_SAMPLES = 100\n",
    "BUDGET = 15\n",
    "NUM_TRIALS = 10\n",
    "MAX_SGD_ITERS = 500\n",
    "BATCH_SIZE = 36"
   ]
  },
  {
   "cell_type": "code",
   "execution_count": null,
   "id": "568efd70-f15d-4401-ab87-51ca180f28f3",
   "metadata": {},
   "outputs": [],
   "source": [
    "# Setup toy problem using synthetic test function\n",
    "testfn = TestGramacyLee()\n",
    "fbest = testfn.f(first(testfn.xopt))\n",
    "lbs, ubs = testfn.bounds[:,1], testfn.bounds[:,2]\n",
    "initial_samples = randsample(NUM_TRIALS, testfn.dim, lbs, ubs)\n",
    "lds_rns = gen_low_discrepancy_sequence(MC_SAMPLES, testfn.dim, HORIZON+1)\n",
    "# batch = generate_batch(BATCH_SIZE; lbs=lbs, ubs=ubs);\n",
    "batch = range(lbs[1], ubs[1], length=BATCH_SIZE)\n",
    "batch = reshape(batch, testfn.dim, BATCH_SIZE);"
   ]
  },
  {
   "cell_type": "code",
   "execution_count": null,
   "id": "8da74c4c-e2e1-4a01-9dbb-d2d86eef894a",
   "metadata": {},
   "outputs": [],
   "source": [
    "# Setup Gaussian Process statistical model\n",
    "ℓ, output_variance, σn2 = [1.], 1., 1e-4\n",
    "ψ = kernel_scale(kernel_matern52, [output_variance, ℓ...]);"
   ]
  },
  {
   "cell_type": "code",
   "execution_count": null,
   "id": "9174232e-10be-4353-a0f6-1501a1622e91",
   "metadata": {
    "tags": []
   },
   "outputs": [],
   "source": [
    "gaps = []\n",
    "sur = nothing\n",
    "\n",
    "for trial in 1:NUM_TRIALS\n",
    "    println(\"Starting Trial #$trial\")\n",
    "    # Grab initial sample for each trial\n",
    "    X = reshape(initial_samples[:, trial], testfn.dim, 1)\n",
    "    sur = fit_surrogate(ψ, X, testfn.f; σn2=σn2)\n",
    "    domain = filter(x -> !(x in sur.X), lbs[1]:.01:ubs[1])\n",
    "    \n",
    "    println(\"Beginning Bayesian Optimization Main Loop\")\n",
    "    println(\"-----------------------------------------\")\n",
    "    for budget in 1:BUDGET\n",
    "        plot()\n",
    "        plot1DEI(sur; domain=domain)\n",
    "        println(\"Iteration #$budget\")\n",
    "        results = []\n",
    "        \n",
    "        # Evaluate α(x) for each batch location and perform SGA\n",
    "        for j in 1:size(batch, 2)\n",
    "            x0 = batch[:, j]\n",
    "            # try-catch guard for rollout at points sufficiently close to history.\n",
    "            # These locations produce a singular exception since the expected improvement\n",
    "            # at these locations is expected to be zero.\n",
    "            try\n",
    "                res = stochastic_gradient_ascent_adam(x0;\n",
    "                    max_sgd_iters=MAX_SGD_ITERS, lbs=lbs, ubs=ubs, mc_iters=MC_SAMPLES,\n",
    "                    lds_rns=lds_rns, horizon=HORIZON, sur=sur\n",
    "                )\n",
    "                push!(results, res)\n",
    "            catch e\n",
    "                # println(e)\n",
    "                # println(\"$x0 too close to point in $(sur.X)\")\n",
    "                continue\n",
    "            end\n",
    "        end # END for j in batch\n",
    "        for r in results\n",
    "            println(\"Begin: $(r.start) -- End: $(r.finish) -- Func: $(r.final_obj) -- Grad: $(first(r.final_grad)) -- Iters: $(r.iters)\")\n",
    "        end\n",
    "        \n",
    "        # Grab the location with best function evaluation\n",
    "        best_j = findmax(t -> t.final_obj, results)[2]\n",
    "        best_result = results[best_j]\n",
    "        vline!(best_result.start, label=\"start\")\n",
    "        vline!(best_result.finish, label=\"finish\")\n",
    "        mm = lpad(string(budget), 3, \"0\")\n",
    "        savefig(\"./ei_$(mm).png\")\n",
    "        \n",
    "        println(\"Selected Location: $(best_result.finish)\")\n",
    "        \n",
    "        # Update model at best location\n",
    "        sur = update_surrogate(sur, best_result.finish, testfn.f)\n",
    "        res = optimize_hypers_optim(sur, kernel_matern52; σn2=σn2)\n",
    "        σ, ℓ = Optim.minimizer(res)\n",
    "        ψ = kernel_scale(kernel_matern52, [σ, ℓ])\n",
    "        sur = fit_surrogate(ψ, sur.X, recover_y(sur); σn2=σn2)\n",
    "        # println(\"Optimal Kernel Hyperparameters: ($σ, $ℓ)\")\n",
    "    end # END for budget iterations\n",
    "    \n",
    "    push!(gaps, measure_gap(sur, fbest))\n",
    "    println(\"\")\n",
    "end # END for trial iterations"
   ]
  },
  {
   "cell_type": "code",
   "execution_count": null,
   "id": "ae1e9295-681f-45ef-99b5-c25fd02e0796",
   "metadata": {},
   "outputs": [],
   "source": [
    "2"
   ]
  },
  {
   "cell_type": "code",
   "execution_count": null,
   "id": "663d648e-8663-42ca-97af-d631bde58462",
   "metadata": {
    "tags": []
   },
   "outputs": [],
   "source": [
    "domain = filter(x -> !(x in sur.X), lbs[1]:.01:ubs[1])\n",
    "plot1DEI(sur; domain=domain)\n",
    "scatter!(sur.X', 0sur.y)\n",
    "# xstart, xend, f, ∇f, iters = results[fbest_j]\n",
    "# vline!(xstart, label=\"Batch Location Start\")\n",
    "# vline!(xend, label=\"Batch Location End\")"
   ]
  },
  {
   "cell_type": "code",
   "execution_count": null,
   "id": "febd77ed-17f9-496e-a7b0-983fdc0d292c",
   "metadata": {},
   "outputs": [],
   "source": [
    "plot1D(sur; domain=domain)"
   ]
  },
  {
   "cell_type": "code",
   "execution_count": null,
   "id": "37bf412c-8df6-4a3a-a2c3-f809f252e847",
   "metadata": {},
   "outputs": [],
   "source": [
    "mean_gaps = []\n",
    "\n",
    "# Iterate across each column\n",
    "for j in 1:length(gaps[1])\n",
    "    push!(mean_gaps, 0.)\n",
    "    \n",
    "    for i in 1:length(gaps)\n",
    "        mean_gaps[j] += gaps[i][j]\n",
    "    end\n",
    "    \n",
    "    mean_gaps[j] /= length(gaps)\n",
    "end\n",
    "\n",
    "best_gap_ndx = findmax(g -> g[end], gaps)[2]\n",
    "worse_gap_ndx = findmin(g -> g[end], gaps)[2]\n",
    "best_gap = gaps[best_gap_ndx]\n",
    "worst_gap = gaps[worse_gap_ndx]"
   ]
  },
  {
   "cell_type": "code",
   "execution_count": null,
   "id": "cd5336f4-3d2e-4819-a25f-df256d2b8991",
   "metadata": {},
   "outputs": [],
   "source": [
    "plot(mean_gaps, label=\"Avg. GAP\")\n",
    "hline!([1.])"
   ]
  },
  {
   "cell_type": "code",
   "execution_count": null,
   "id": "be2a55a8-e3a3-4d91-8813-362360481c4a",
   "metadata": {},
   "outputs": [],
   "source": [
    "gaps"
   ]
  },
  {
   "cell_type": "code",
   "execution_count": null,
   "id": "be7901ec-2f55-4db1-8425-99dda3b3cef7",
   "metadata": {},
   "outputs": [],
   "source": []
  }
 ],
 "metadata": {
  "kernelspec": {
   "display_name": "Julia 1.8.5",
   "language": "julia",
   "name": "julia-1.8"
  },
  "language_info": {
   "file_extension": ".jl",
   "mimetype": "application/julia",
   "name": "julia",
   "version": "1.8.5"
  }
 },
 "nbformat": 4,
 "nbformat_minor": 5
}
