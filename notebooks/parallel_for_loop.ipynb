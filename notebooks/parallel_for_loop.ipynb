{
 "cells": [
  {
   "cell_type": "code",
   "execution_count": 1,
   "id": "a8533502-128f-4670-93b8-400003ebb40e",
   "metadata": {},
   "outputs": [
    {
     "data": {
      "text/plain": [
       "for_loop (generic function with 1 method)"
      ]
     },
     "execution_count": 1,
     "metadata": {},
     "output_type": "execute_result"
    }
   ],
   "source": [
    "using Base.Threads\n",
    "\n",
    "function mysin(i)\n",
    "    sleep(1)\n",
    "    return sin(i)\n",
    "end\n",
    "\n",
    "function parallel_for_loop()\n",
    "    n = 10\n",
    "    s = 0.0\n",
    "    @threads for i = 1:n\n",
    "        s += mysin(i)\n",
    "    end\n",
    "    return s\n",
    "end\n",
    "\n",
    "function for_loop()\n",
    "    n = 10\n",
    "    s = 0.0\n",
    "    for i = 1:n\n",
    "        s += mysin(i)\n",
    "    end\n",
    "    return s\n",
    "end"
   ]
  },
  {
   "cell_type": "code",
   "execution_count": 2,
   "id": "50b56e4f-bd74-4fa2-b83f-bbcfe498c98b",
   "metadata": {},
   "outputs": [
    {
     "name": "stdout",
     "output_type": "stream",
     "text": [
      "  3.091063 seconds (281.35 k allocations: 13.995 MiB, 2.81% compilation time)\n"
     ]
    },
    {
     "data": {
      "text/plain": [
       "1.8918884196934453"
      ]
     },
     "execution_count": 2,
     "metadata": {},
     "output_type": "execute_result"
    }
   ],
   "source": [
    "@time parallel_for_loop()"
   ]
  },
  {
   "cell_type": "code",
   "execution_count": 3,
   "id": "64498672-28c9-4446-9c82-7d6c3efd0c87",
   "metadata": {},
   "outputs": [
    {
     "name": "stdout",
     "output_type": "stream",
     "text": [
      " 10.013541 seconds (358 allocations: 10.031 KiB)\n"
     ]
    },
    {
     "data": {
      "text/plain": [
       "1.4111883712180104"
      ]
     },
     "execution_count": 3,
     "metadata": {},
     "output_type": "execute_result"
    }
   ],
   "source": [
    "@time for_loop()"
   ]
  },
  {
   "cell_type": "code",
   "execution_count": null,
   "id": "9b29191c-3bc7-4346-9ac9-2c9076b422a9",
   "metadata": {},
   "outputs": [],
   "source": [
    "sleep(.1)"
   ]
  },
  {
   "cell_type": "code",
   "execution_count": null,
   "id": "86969e67-a9b3-48f9-a116-5983fbfa6a7b",
   "metadata": {},
   "outputs": [],
   "source": []
  }
 ],
 "metadata": {
  "kernelspec": {
   "display_name": "Julia 1.8.5",
   "language": "julia",
   "name": "julia-1.8"
  },
  "language_info": {
   "file_extension": ".jl",
   "mimetype": "application/julia",
   "name": "julia",
   "version": "1.8.5"
  }
 },
 "nbformat": 4,
 "nbformat_minor": 5
}
