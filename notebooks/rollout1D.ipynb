{
 "cells": [
  {
   "cell_type": "code",
   "execution_count": 1,
   "id": "8156f9e4-87ef-4847-bdfa-905c23ae28d8",
   "metadata": {},
   "outputs": [],
   "source": [
    "using Distributions\n",
    "using LinearAlgebra\n",
    "using Plots\n",
    "using Test\n",
    "using Sobol\n",
    "using Optim\n",
    "using Random"
   ]
  },
  {
   "cell_type": "code",
   "execution_count": 28,
   "id": "403f69ee-73b8-45a4-a461-cfc014c9403a",
   "metadata": {},
   "outputs": [
    {
     "data": {
      "text/plain": [
       "centered_fd (generic function with 1 method)"
      ]
     },
     "execution_count": 28,
     "metadata": {},
     "output_type": "execute_result"
    }
   ],
   "source": [
    "include(\"../experiment.jl\")\n",
    "include(\"../testfns.jl\")\n",
    "include(\"../utils.jl\")"
   ]
  },
  {
   "cell_type": "code",
   "execution_count": 29,
   "id": "82627144-d24c-49ec-ae72-0a1b3be3749f",
   "metadata": {},
   "outputs": [
    {
     "data": {
      "text/plain": [
       "100"
      ]
     },
     "execution_count": 29,
     "metadata": {},
     "output_type": "execute_result"
    }
   ],
   "source": [
    "BUDGET = 1\n",
    "HORIZON = 1\n",
    "SGD_ITERATIONS = Int64(1e2)\n",
    "BATCH_SIZE = 10\n",
    "MC_ITERATIONS = HORIZON == 0 ? 50 : 50 + HORIZON*50"
   ]
  },
  {
   "cell_type": "code",
   "execution_count": 31,
   "id": "6ea9ed2f-2daa-4352-ae06-efe1f5ab9ffb",
   "metadata": {},
   "outputs": [
    {
     "data": {
      "text/plain": [
       "1×3 Matrix{Float64}:\n",
       " 18.0902  15.6162  22.1057"
      ]
     },
     "execution_count": 31,
     "metadata": {},
     "output_type": "execute_result"
    }
   ],
   "source": [
    "randsample(3, testfn.dim, testfn.bounds[:,1], testfn.bounds[:,2])"
   ]
  },
  {
   "cell_type": "code",
   "execution_count": 27,
   "id": "ae46a9d2-f39c-4c9e-9a86-ade9cfde0dce",
   "metadata": {},
   "outputs": [
    {
     "data": {
      "text/plain": [
       "3-element Vector{Int64}:\n",
       " 6\n",
       " 9\n",
       " 5"
      ]
     },
     "execution_count": 27,
     "metadata": {},
     "output_type": "execute_result"
    }
   ],
   "source": [
    "rand(MersenneTwister(0), 3)"
   ]
  },
  {
   "cell_type": "code",
   "execution_count": 33,
   "id": "21a925f9-3398-4c8a-94a1-24a36f6fac84",
   "metadata": {},
   "outputs": [
    {
     "data": {
      "text/plain": [
       "Experiment(var\"#f#1654\"{Float64, Float64, Float64, Int64}(20.0, 0.2, 6.283185307179586, 1), var\"#∇f#1655\"{Float64, Float64, Float64, Int64}(20.0, 0.2, 6.283185307179586, 1), kernel_matern52, [1.0, 1.0], [21.155915174111303, 21.472690054454926], [-14.403059699030237 -31.21991101278626], [-32.768 32.768], 1, 1, 100, 10, 100)"
      ]
     },
     "execution_count": 33,
     "metadata": {},
     "output_type": "execute_result"
    }
   ],
   "source": [
    "testfn = TestAckley(1)\n",
    "θ = [1., 1.] # σf, ℓ (output variance/scale factor, length scale)\n",
    "N = 2\n",
    "X = randsample(N, testfn.dim, testfn.bounds[:,1], testfn.bounds[:,2])\n",
    "y = [testfn.f(X[:,j]) for j in 1:size(X, 2)]\n",
    "\n",
    "experiment = Experiment(\n",
    "    f=testfn.f,\n",
    "    ∇f=testfn.∇f,\n",
    "    ψconstructor=kernel_matern52,\n",
    "    θ=θ,\n",
    "    X=X,\n",
    "    y=y,\n",
    "    bounds=testfn.bounds,\n",
    "    budget=BUDGET,\n",
    "    horizon=HORIZON,\n",
    "    sgd_iterations=SGD_ITERATIONS,\n",
    "    batch_size=BATCH_SIZE,\n",
    "    mc_iterations=MC_ITERATIONS\n",
    ")"
   ]
  },
  {
   "cell_type": "code",
   "execution_count": 34,
   "id": "d01af233-bc03-4815-9162-b5dd68a417bb",
   "metadata": {},
   "outputs": [
    {
     "name": "stdout",
     "output_type": "stream",
     "text": [
      "Experiment started...\n",
      "Experiment completed...\n"
     ]
    }
   ],
   "source": [
    "run(experiment)"
   ]
  },
  {
   "cell_type": "code",
   "execution_count": null,
   "id": "742ca16e-1820-4ae2-91cb-1519318f1150",
   "metadata": {},
   "outputs": [],
   "source": []
  }
 ],
 "metadata": {
  "kernelspec": {
   "display_name": "Julia 1.8.4",
   "language": "julia",
   "name": "julia-1.8"
  },
  "language_info": {
   "file_extension": ".jl",
   "mimetype": "application/julia",
   "name": "julia",
   "version": "1.8.4"
  }
 },
 "nbformat": 4,
 "nbformat_minor": 5
}
