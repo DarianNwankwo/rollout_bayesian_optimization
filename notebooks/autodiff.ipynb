{
 "cells": [
  {
   "cell_type": "code",
   "execution_count": 1,
   "id": "246c669b-8f20-4d5e-a3b0-95d15e21fdc4",
   "metadata": {},
   "outputs": [],
   "source": [
    "using ForwardDiff\n",
    "using LinearAlgebra"
   ]
  },
  {
   "cell_type": "code",
   "execution_count": 2,
   "id": "90750eef-145d-4e6e-831d-8bd6aa42d4cf",
   "metadata": {},
   "outputs": [
    {
     "data": {
      "text/plain": [
       "f (generic function with 1 method)"
      ]
     },
     "execution_count": 2,
     "metadata": {},
     "output_type": "execute_result"
    }
   ],
   "source": [
    "f(x; θ) = dot(x, θ)"
   ]
  },
  {
   "cell_type": "code",
   "execution_count": 5,
   "id": "27f3c99f-59e9-4566-a217-c565dd71aa5a",
   "metadata": {},
   "outputs": [
    {
     "data": {
      "text/plain": [
       "2.542383761055262"
      ]
     },
     "execution_count": 5,
     "metadata": {},
     "output_type": "execute_result"
    }
   ],
   "source": [
    "f(rand(4), θ=ones(4))"
   ]
  },
  {
   "cell_type": "code",
   "execution_count": 10,
   "id": "b73c633b-8dcd-4377-8d58-77293119a829",
   "metadata": {},
   "outputs": [
    {
     "data": {
      "text/plain": [
       "2.233911986143848"
      ]
     },
     "execution_count": 10,
     "metadata": {},
     "output_type": "execute_result"
    }
   ],
   "source": [
    "var\"f\"(rand(4), θ=ones(4))"
   ]
  }
 ],
 "metadata": {
  "kernelspec": {
   "display_name": "Julia 1.8.4",
   "language": "julia",
   "name": "julia-1.8"
  },
  "language_info": {
   "file_extension": ".jl",
   "mimetype": "application/julia",
   "name": "julia",
   "version": "1.8.4"
  }
 },
 "nbformat": 4,
 "nbformat_minor": 5
}
