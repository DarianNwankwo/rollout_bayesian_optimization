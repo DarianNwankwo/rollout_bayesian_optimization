{
 "cells": [
  {
   "cell_type": "code",
   "execution_count": 1,
   "id": "70266f42-a8e2-4f3e-9920-4dd671ccecf7",
   "metadata": {},
   "outputs": [
    {
     "data": {
      "text/plain": [
       "eval_Dθ_KXX (generic function with 1 method)"
      ]
     },
     "execution_count": 1,
     "metadata": {},
     "output_type": "execute_result"
    }
   ],
   "source": [
    "include(\"rollout_primary.jl\")"
   ]
  },
  {
   "cell_type": "code",
   "execution_count": null,
   "id": "f83140cd-9d2c-4572-b9d4-20270330bfe3",
   "metadata": {},
   "outputs": [],
   "source": []
  }
 ],
 "metadata": {
  "kernelspec": {
   "display_name": "Julia 1.6.3",
   "language": "julia",
   "name": "julia-1.6"
  },
  "language_info": {
   "file_extension": ".jl",
   "mimetype": "application/julia",
   "name": "julia",
   "version": "1.6.3"
  }
 },
 "nbformat": 4,
 "nbformat_minor": 5
}
