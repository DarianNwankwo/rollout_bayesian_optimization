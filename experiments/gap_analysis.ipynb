{
 "cells": [
  {
   "cell_type": "code",
   "execution_count": 1,
   "id": "987abd0e-5467-46cc-ab1a-70a1bdc70f19",
   "metadata": {},
   "outputs": [],
   "source": [
    "import os\n",
    "\n",
    "import pandas as pd\n",
    "import numpy as np\n",
    "import matplotlib.pyplot as plt"
   ]
  },
  {
   "cell_type": "code",
   "execution_count": 13,
   "id": "972132bc-5053-48bf-9185-1dd71e468c09",
   "metadata": {},
   "outputs": [],
   "source": [
    "# Define the parent directory\n",
    "parent_directory = \"data-with-optimal-surrogate/myopic_bayesopt\"\n",
    "\n",
    "# Initialize a dictionary to store the data frames\n",
    "dfs_opt = {}\n",
    "\n",
    "# Get a list of all subdirectories inside the parent directory\n",
    "subdirectories = [d for d in os.listdir(parent_directory) if os.path.isdir(os.path.join(parent_directory, d))]\n",
    "\n",
    "# Loop through each subdirectory\n",
    "for testfn_name in subdirectories:\n",
    "    subdirectory_path = os.path.join(parent_directory, testfn_name)\n",
    "    \n",
    "    # Get a list of all CSV files inside the subdirectory\n",
    "    csv_files = [f for f in os.listdir(subdirectory_path) if f.endswith('.csv') and \"observations\" not in f]\n",
    "    \n",
    "    # Initialize a dictionary to store CSV data frames for this subdirectory\n",
    "    subdirectory_data = {}\n",
    "    \n",
    "    # Loop through each CSV file\n",
    "    for csv_file in csv_files:\n",
    "        csv_file_path = os.path.join(subdirectory_path, csv_file)\n",
    "        \n",
    "        # Read the CSV file into a pandas data frame\n",
    "        csv_data_frame = pd.read_csv(csv_file_path)\n",
    "        \n",
    "        # Store the data frame in the subdirectory_data dictionary using the filename as key\n",
    "        fn = csv_file.split(\".\")[0]\n",
    "        subdirectory_data[fn] = csv_data_frame\n",
    "    \n",
    "    # Store the subdirectory_data dictionary in the main data_frames dictionary using the subdirectory name as key\n",
    "    dfs_opt[testfn_name] = subdirectory_data"
   ]
  },
  {
   "cell_type": "code",
   "execution_count": 14,
   "id": "a9cdd965-ff47-4a29-9faa-56f8e957552e",
   "metadata": {
    "tags": []
   },
   "outputs": [],
   "source": [
    "# Define the parent directory\n",
    "parent_directory = \"data-without-optimal-surrogate/myopic_bayesopt\"\n",
    "\n",
    "# Initialize a dictionary to store the data frames\n",
    "dfs_without_opt = {}\n",
    "\n",
    "# Get a list of all subdirectories inside the parent directory\n",
    "subdirectories = [d for d in os.listdir(parent_directory) if os.path.isdir(os.path.join(parent_directory, d))]\n",
    "\n",
    "# Loop through each subdirectory\n",
    "for testfn_name in subdirectories:\n",
    "    subdirectory_path = os.path.join(parent_directory, testfn_name)\n",
    "    \n",
    "    # Get a list of all CSV files inside the subdirectory\n",
    "    csv_files = [f for f in os.listdir(subdirectory_path) if f.endswith('.csv') and \"observations\" not in f]\n",
    "    \n",
    "    # Initialize a dictionary to store CSV data frames for this subdirectory\n",
    "    subdirectory_data = {}\n",
    "    \n",
    "    # Loop through each CSV file\n",
    "    for csv_file in csv_files:\n",
    "        csv_file_path = os.path.join(subdirectory_path, csv_file)\n",
    "        \n",
    "        # Read the CSV file into a pandas data frame\n",
    "        csv_data_frame = pd.read_csv(csv_file_path)\n",
    "        \n",
    "        # Store the data frame in the subdirectory_data dictionary using the filename as key\n",
    "        fn = csv_file.split(\".\")[0]\n",
    "        subdirectory_data[fn] = csv_data_frame\n",
    "    \n",
    "    # Store the subdirectory_data dictionary in the main data_frames dictionary using the subdirectory name as key\n",
    "    dfs_without_opt[testfn_name] = subdirectory_data"
   ]
  },
  {
   "cell_type": "code",
   "execution_count": 29,
   "id": "a40c42b1-0224-4abc-9bc2-3392d4b1f642",
   "metadata": {},
   "outputs": [],
   "source": [
    "sum_dfs = dict()\n",
    "ei_dfs = []\n",
    "poi_dfs = []\n",
    "ucb_dfs = []\n",
    "\n",
    "for testfn_name in dfs_opt.keys():\n",
    "    ei_dfs.append(dfs_opt[testfn_name][\"ei_gaps\"])\n",
    "    poi_dfs.append(dfs_opt[testfn_name][\"poi_gaps\"])\n",
    "    ucb_dfs.append(dfs_opt[testfn_name][\"ucb_gaps\"])\n",
    "\n",
    "final_ei_df = pd.concat(ei_dfs)\n",
    "final_poi_df = pd.concat(poi_dfs)\n",
    "final_ucb_df = pd.concat(ucb_dfs)"
   ]
  },
  {
   "cell_type": "code",
   "execution_count": 30,
   "id": "126a8079-042f-4f7b-8ca1-0c27cf7d7e67",
   "metadata": {
    "tags": []
   },
   "outputs": [
    {
     "data": {
      "text/plain": [
       "0    -0.096154\n",
       "1     0.405587\n",
       "2     0.511519\n",
       "3     0.564844\n",
       "4     0.587370\n",
       "5     0.620683\n",
       "6     0.640023\n",
       "7     0.644965\n",
       "8     0.646653\n",
       "9     0.647194\n",
       "10    0.656640\n",
       "11    0.672805\n",
       "12    0.682355\n",
       "13    0.689598\n",
       "14    0.695617\n",
       "15    0.695940\n",
       "dtype: float64"
      ]
     },
     "execution_count": 30,
     "metadata": {},
     "output_type": "execute_result"
    }
   ],
   "source": [
    "# final_ei_df.drop(\"trial\").mean(axis=0)\n",
    "final_ei_df.drop(\"trial\", axis=1).mean(axis=0)"
   ]
  },
  {
   "cell_type": "code",
   "execution_count": 28,
   "id": "f006ab2b-f2c8-4c9f-a177-a7ecc8e3187e",
   "metadata": {},
   "outputs": [
    {
     "data": {
      "text/plain": [
       "0    -0.090909\n",
       "1     0.397303\n",
       "2     0.512066\n",
       "3     0.537789\n",
       "4     0.573043\n",
       "5     0.588156\n",
       "6     0.613368\n",
       "7     0.625979\n",
       "8     0.638774\n",
       "9     0.646016\n",
       "10    0.657607\n",
       "11    0.668494\n",
       "12    0.673775\n",
       "13    0.682662\n",
       "14    0.686093\n",
       "15    0.687677\n",
       "dtype: float64"
      ]
     },
     "execution_count": 28,
     "metadata": {},
     "output_type": "execute_result"
    }
   ],
   "source": [
    "# final_ei_df.drop(\"trial\").mean(axis=0)\n",
    "final_ei_df.drop(\"trial\", axis=1).mean(axis=0)"
   ]
  },
  {
   "cell_type": "code",
   "execution_count": 20,
   "id": "4781575d-6db8-4256-aadb-82477080249b",
   "metadata": {},
   "outputs": [
    {
     "data": {
      "text/plain": [
       "<Axes: >"
      ]
     },
     "execution_count": 20,
     "metadata": {},
     "output_type": "execute_result"
    },
    {
     "data": {
      "image/png": "[encoded data removed]",
      "text/plain": [
       "<Figure size 640x480 with 1 Axes>"
      ]
     },
     "metadata": {},
     "output_type": "display_data"
    }
   ],
   "source": [
    "final_poi_df.drop(\"trial\", axis=1).mean(axis=0).plot()"
   ]
  },
  {
   "cell_type": "code",
   "execution_count": 21,
   "id": "6d7644de-b438-466a-b695-8a1c65eac18e",
   "metadata": {},
   "outputs": [
    {
     "data": {
      "text/plain": [
       "<Axes: >"
      ]
     },
     "execution_count": 21,
     "metadata": {},
     "output_type": "execute_result"
    },
    {
     "data": {
      "image/png": "[encoded data removed]",
      "text/plain": [
       "<Figure size 640x480 with 1 Axes>"
      ]
     },
     "metadata": {},
     "output_type": "display_data"
    }
   ],
   "source": [
    "final_ucb_df.drop(\"trial\", axis=1).mean(axis=0).plot()"
   ]
  },
  {
   "cell_type": "code",
   "execution_count": null,
   "id": "8d70e7f2-f97d-4524-be60-43f9ba72d316",
   "metadata": {},
   "outputs": [],
   "source": []
  },
  {
   "cell_type": "code",
   "execution_count": null,
   "id": "dfad91f1-47ac-432b-9c4a-a2bda46b021d",
   "metadata": {},
   "outputs": [],
   "source": []
  }
 ],
 "metadata": {
  "kernelspec": {
   "display_name": "Python 3 (ipykernel)",
   "language": "python",
   "name": "python3"
  },
  "language_info": {
   "codemirror_mode": {
    "name": "ipython",
    "version": 3
   },
   "file_extension": ".py",
   "mimetype": "text/x-python",
   "name": "python",
   "nbconvert_exporter": "python",
   "pygments_lexer": "ipython3",
   "version": "3.11.3"
  }
 },
 "nbformat": 4,
 "nbformat_minor": 5
}
