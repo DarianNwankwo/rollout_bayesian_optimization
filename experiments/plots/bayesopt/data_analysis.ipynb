{
 "cells": [
  {
   "cell_type": "code",
   "execution_count": 3,
   "id": "aa6001c9-1978-4b3d-839b-49e1c477a1b9",
   "metadata": {},
   "outputs": [],
   "source": [
    "import os\n",
    "\n",
    "import numpy as np\n",
    "import pandas as pd"
   ]
  },
  {
   "cell_type": "code",
   "execution_count": 14,
   "id": "e26afb77-35d3-44aa-ac91-367dfcaca1ef",
   "metadata": {},
   "outputs": [],
   "source": [
    "directories = [d for d in os.listdir('.') if os.path.isdir(d)]\n",
    "directories = [d for d in directories if d[0] != \".\"]"
   ]
  },
  {
   "cell_type": "code",
   "execution_count": 36,
   "id": "ca6fa2d4-9b0f-4dcb-a2c9-666b9cfbb4dd",
   "metadata": {},
   "outputs": [],
   "source": [
    "def read_csv_files_in_directory(dir_path):\n",
    "    # initialize an empty list to store data from all CSV files\n",
    "    dataframes = []\n",
    "    \n",
    "    # loop over each file in the directory\n",
    "    for filename in os.listdir(dir_path):\n",
    "        # check if the file is a CSV file\n",
    "        if filename.endswith(\".csv\"):\n",
    "            # construct the full file path\n",
    "            file_path = os.path.join(dir_path, filename)\n",
    "            \n",
    "            # read the CSV file into a pandas DataFrame\n",
    "            df = pd.read_csv(file_path)\n",
    "            \n",
    "            # append the DataFrame to the list of dataframes\n",
    "            dataframes.append((df, filename))\n",
    "    \n",
    "    return dataframes\n"
   ]
  },
  {
   "cell_type": "code",
   "execution_count": 53,
   "id": "97f5c27b-abc0-4757-91b4-26b643a8c578",
   "metadata": {},
   "outputs": [],
   "source": [
    "# Collect data into dataframes indexed by their filename\n",
    "dataframes = {}\n",
    "\n",
    "for eachdir in directories:\n",
    "    for df, filename in read_csv_files_in_directory(eachdir):\n",
    "        dataframes[filename] = df\n",
    "        \n",
    "filenames = list(dataframes.keys())\n",
    "COLUMN_NAME = \"budget_16\"\n",
    "sorted_dataframes = { fn: df.sort_values(by=COLUMN_NAME) for fn, df in dataframes.items() }"
   ]
  },
  {
   "cell_type": "code",
   "execution_count": 57,
   "id": "bfd82171-ac6f-4284-acc4-fe80bfa79339",
   "metadata": {},
   "outputs": [],
   "source": [
    "from collections import namedtuple\n",
    "\n",
    "# define the named tuple class\n",
    "Stats = namedtuple('Stats', ['median', 'mean'])\n",
    "\n",
    "def calculate_median_and_mean(df, column_name):\n",
    "    # calculate the median of the column\n",
    "    median = df[column_name].median()\n",
    "    \n",
    "    # calculate the mean of the column\n",
    "    mean = df[column_name].mean()\n",
    "    \n",
    "    # create a named tuple with the median and mean\n",
    "    stats = Stats(median, mean)\n",
    "    \n",
    "    return stats"
   ]
  },
  {
   "cell_type": "code",
   "execution_count": 58,
   "id": "d5e1d733-f0f0-4fb0-93e7-99d38e2e9d31",
   "metadata": {},
   "outputs": [],
   "source": [
    "df_statistics = { fn: calculate_median_and_mean(df, COLUMN_NAME) for fn, df in sorted_dataframes.items() }"
   ]
  },
  {
   "cell_type": "code",
   "execution_count": 59,
   "id": "c98bb4dc-3b6f-4222-ae95-909d4b210978",
   "metadata": {},
   "outputs": [
    {
     "data": {
      "text/plain": [
       "{'rosenbrock_nothing_bayesopt_horizon0_mc50_sgd100_batchsize64.csv': Stats(median=0.7431458031543112, mean=0.5823200272170223),\n",
       " 'ackley_2_bayesopt_horizon0_mc50_sgd100_batchsize64_backup_true.csv': Stats(median=1.0, mean=0.9999851529787065),\n",
       " 'ackley_2_bayesopt_horizon0_mc50_sgd100_batchsize64.csv': Stats(median=1.0, mean=0.9999851529787065),\n",
       " 'ackley_1_bayesopt_horizon0_mc50_sgd100_batchsize64.csv': Stats(median=1.0, mean=0.9064424405548948),\n",
       " 'sixhump_nothing_bayesopt_horizon0_mc50_sgd100_batchsize64.csv': Stats(median=0.6532664202789362, mean=0.5741148444159423),\n",
       " 'rastrigin_2_bayesopt_horizon0_mc50_sgd100_batchsize64.csv': Stats(median=0.3415791547923034, mean=0.3415791547923034),\n",
       " 'braninhoo_nothing_bayesopt_horizon0_mc50_sgd100_batchsize64.csv': Stats(median=0.8182668608358075, mean=0.6468328860493182),\n",
       " 'gramacylee_nothing_bayesopt_horizon0_mc50_sgd100_batchsize64.csv': Stats(median=0.9061418090035465, mean=0.7934000081684662)}"
      ]
     },
     "execution_count": 59,
     "metadata": {},
     "output_type": "execute_result"
    }
   ],
   "source": [
    "df_statistics"
   ]
  },
  {
   "cell_type": "code",
   "execution_count": null,
   "id": "7d2ced35-334a-411a-8eef-67530bb6de21",
   "metadata": {},
   "outputs": [],
   "source": []
  }
 ],
 "metadata": {
  "kernelspec": {
   "display_name": "Python 3 (ipykernel)",
   "language": "python",
   "name": "python3"
  },
  "language_info": {
   "codemirror_mode": {
    "name": "ipython",
    "version": 3
   },
   "file_extension": ".py",
   "mimetype": "text/x-python",
   "name": "python",
   "nbconvert_exporter": "python",
   "pygments_lexer": "ipython3",
   "version": "3.9.13"
  }
 },
 "nbformat": 4,
 "nbformat_minor": 5
}
