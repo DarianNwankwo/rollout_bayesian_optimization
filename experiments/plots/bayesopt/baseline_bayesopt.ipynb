{
 "cells": [
  {
   "cell_type": "code",
   "execution_count": 15,
   "id": "daa1b527-5179-4eb8-bf55-d24d9af6d494",
   "metadata": {},
   "outputs": [],
   "source": [
    "from testfns import *\n",
    "\n",
    "from skopt import gp_minimize"
   ]
  },
  {
   "cell_type": "code",
   "execution_count": 35,
   "id": "b1ee93ce-5bb4-4818-a06d-a35dae8edf21",
   "metadata": {},
   "outputs": [
    {
     "name": "stdout",
     "output_type": "stream",
     "text": [
      "Optimum parameters: x=0.5471421476208543\n",
      "Optimum value: -0.8681007280489907\n"
     ]
    }
   ],
   "source": [
    "testfn = test_gramacy_lee()\n",
    "bounds = [(l, u) for l,u in testfn.bounds]\n",
    "\n",
    "# perform the optimization with LCB acquisition function\n",
    "# result = gp_minimize(\n",
    "#     func=testfn.f,\n",
    "#     dimensions=bounds,\n",
    "#     n_calls=15*2,\n",
    "#     acq_func=\"EI\",\n",
    "#     n_random_starts=1,\n",
    "#     noise=1e-4,\n",
    "#     random_state=1,\n",
    "#     xi=0.\n",
    "# )\n",
    "result = gp_minimize(func=testfn.f, dimensions=bounds, n_calls=15,\n",
    "    acq_func=\"EI\", n_random_starts=1, noise=1e-4, random_state=1,\n",
    ")\n",
    "\n",
    "# print the optimum values\n",
    "print(\"Optimum parameters: x={}\".format(*result.x))\n",
    "print(\"Optimum value: {}\".format(result.fun))\n"
   ]
  },
  {
   "cell_type": "code",
   "execution_count": 30,
   "id": "fd3a9eb4-fa06-4166-9eb0-550cef040c3b",
   "metadata": {},
   "outputs": [
    {
     "data": {
      "text/plain": [
       "[(0.5, 2.5)]"
      ]
     },
     "execution_count": 30,
     "metadata": {},
     "output_type": "execute_result"
    }
   ],
   "source": [
    "bounds"
   ]
  },
  {
   "cell_type": "code",
   "execution_count": null,
   "id": "0a540515-f0f0-47af-b5d5-8865cbabd324",
   "metadata": {},
   "outputs": [],
   "source": []
  }
 ],
 "metadata": {
  "kernelspec": {
   "display_name": "Python 3 (ipykernel)",
   "language": "python",
   "name": "python3"
  },
  "language_info": {
   "codemirror_mode": {
    "name": "ipython",
    "version": 3
   },
   "file_extension": ".py",
   "mimetype": "text/x-python",
   "name": "python",
   "nbconvert_exporter": "python",
   "pygments_lexer": "ipython3",
   "version": "3.9.13"
  }
 },
 "nbformat": 4,
 "nbformat_minor": 5
}
